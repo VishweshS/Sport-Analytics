{
 "cells": [
  {
   "cell_type": "markdown",
   "id": "eb0b0a3c",
   "metadata": {
    "id": "1e5f0c89"
   },
   "source": [
    "# **Project**\n",
    "## Link to the dataset: https://www.kaggle.com/datasets/nowke9/ipldata ##\n",
    "\n",
    "### Members: Arie Itzhacki, Vishwesh Srinivasan and Veer K. Kumar\n",
    "\n",
    "\n",
    "DATA201\n",
    "\n",
    "Fall 2022\n",
    "\n",
    "Tufts University"
   ]
  },
  {
   "cell_type": "code",
   "execution_count": 1,
   "id": "631f1f06",
   "metadata": {
    "colab": {
     "background_save": true
    },
    "id": "794a8f87"
   },
   "outputs": [],
   "source": [
    "# All the required libraries are loaded here\n",
    "import warnings\n",
    "warnings.filterwarnings(\"ignore\")\n",
    "\n",
    "import sys\n",
    "\n",
    "import numpy as np\n",
    "import pandas as pd\n",
    "import seaborn as sns\n",
    "import matplotlib.pyplot as plt\n",
    "from matplotlib import pyplot as plt\n",
    "\n",
    "from sklearn.preprocessing import LabelEncoder\n",
    "from sklearn import model_selection\n",
    "from sklearn.model_selection import train_test_split\n",
    "from sklearn.model_selection import cross_val_score\n",
    "from sklearn.model_selection import GridSearchCV\n",
    "from sklearn.model_selection import RandomizedSearchCV\n",
    "from sklearn.model_selection import learning_curve\n",
    "from sklearn.metrics import classification_report, confusion_matrix, accuracy_score\n",
    "from sklearn.linear_model import LogisticRegression\n",
    "from sklearn.neighbors import KNeighborsClassifier\n",
    "from sklearn.tree import DecisionTreeClassifier\n",
    "from sklearn.ensemble import RandomForestClassifier\n",
    "from sklearn.naive_bayes import GaussianNB\n",
    "\n",
    "from sklearn import tree"
   ]
  },
  {
   "cell_type": "markdown",
   "id": "c0329f43",
   "metadata": {
    "id": "3e1be4c0"
   },
   "source": [
    "### Data Cleaning ###"
   ]
  },
  {
   "cell_type": "code",
   "execution_count": 2,
   "id": "366e54f7",
   "metadata": {
    "colab": {
     "background_save": true
    },
    "id": "bd0316e1"
   },
   "outputs": [
    {
     "data": {
      "text/html": [
       "<div>\n",
       "<style scoped>\n",
       "    .dataframe tbody tr th:only-of-type {\n",
       "        vertical-align: middle;\n",
       "    }\n",
       "\n",
       "    .dataframe tbody tr th {\n",
       "        vertical-align: top;\n",
       "    }\n",
       "\n",
       "    .dataframe thead th {\n",
       "        text-align: right;\n",
       "    }\n",
       "</style>\n",
       "<table border=\"1\" class=\"dataframe\">\n",
       "  <thead>\n",
       "    <tr style=\"text-align: right;\">\n",
       "      <th></th>\n",
       "      <th>season</th>\n",
       "      <th>city</th>\n",
       "      <th>date</th>\n",
       "      <th>team1</th>\n",
       "      <th>team2</th>\n",
       "      <th>toss_winner</th>\n",
       "      <th>toss_decision</th>\n",
       "      <th>result</th>\n",
       "      <th>dl_applied</th>\n",
       "      <th>winner</th>\n",
       "      <th>win_by_runs</th>\n",
       "      <th>win_by_wickets</th>\n",
       "      <th>venue</th>\n",
       "    </tr>\n",
       "  </thead>\n",
       "  <tbody>\n",
       "    <tr>\n",
       "      <th>116</th>\n",
       "      <td>2008</td>\n",
       "      <td>Mumbai</td>\n",
       "      <td>6/1/2008</td>\n",
       "      <td>Chennai Super Kings</td>\n",
       "      <td>Rajasthan Royals</td>\n",
       "      <td>Rajasthan Royals</td>\n",
       "      <td>field</td>\n",
       "      <td>normal</td>\n",
       "      <td>0</td>\n",
       "      <td>Rajasthan Royals</td>\n",
       "      <td>0</td>\n",
       "      <td>3</td>\n",
       "      <td>Dr DY Patil Sports Academy</td>\n",
       "    </tr>\n",
       "    <tr>\n",
       "      <th>82</th>\n",
       "      <td>2008</td>\n",
       "      <td>Jaipur</td>\n",
       "      <td>5/4/2008</td>\n",
       "      <td>Chennai Super Kings</td>\n",
       "      <td>Rajasthan Royals</td>\n",
       "      <td>Chennai Super Kings</td>\n",
       "      <td>bat</td>\n",
       "      <td>normal</td>\n",
       "      <td>0</td>\n",
       "      <td>Rajasthan Royals</td>\n",
       "      <td>0</td>\n",
       "      <td>8</td>\n",
       "      <td>Sawai Mansingh Stadium</td>\n",
       "    </tr>\n",
       "    <tr>\n",
       "      <th>81</th>\n",
       "      <td>2008</td>\n",
       "      <td>Mumbai</td>\n",
       "      <td>5/4/2008</td>\n",
       "      <td>Mumbai Indians</td>\n",
       "      <td>Delhi Daredevils</td>\n",
       "      <td>Delhi Daredevils</td>\n",
       "      <td>field</td>\n",
       "      <td>normal</td>\n",
       "      <td>0</td>\n",
       "      <td>Mumbai Indians</td>\n",
       "      <td>29</td>\n",
       "      <td>0</td>\n",
       "      <td>Dr DY Patil Sports Academy</td>\n",
       "    </tr>\n",
       "    <tr>\n",
       "      <th>80</th>\n",
       "      <td>2008</td>\n",
       "      <td>Chandigarh</td>\n",
       "      <td>5/3/2008</td>\n",
       "      <td>Kings XI Punjab</td>\n",
       "      <td>Kolkata Knight Riders</td>\n",
       "      <td>Kings XI Punjab</td>\n",
       "      <td>bat</td>\n",
       "      <td>normal</td>\n",
       "      <td>0</td>\n",
       "      <td>Kings XI Punjab</td>\n",
       "      <td>9</td>\n",
       "      <td>0</td>\n",
       "      <td>Punjab Cricket Association Stadium, Mohali</td>\n",
       "    </tr>\n",
       "    <tr>\n",
       "      <th>79</th>\n",
       "      <td>2008</td>\n",
       "      <td>Hyderabad</td>\n",
       "      <td>5/25/2008</td>\n",
       "      <td>Deccan Chargers</td>\n",
       "      <td>Royal Challengers Bangalore</td>\n",
       "      <td>Deccan Chargers</td>\n",
       "      <td>bat</td>\n",
       "      <td>normal</td>\n",
       "      <td>0</td>\n",
       "      <td>Royal Challengers Bangalore</td>\n",
       "      <td>0</td>\n",
       "      <td>5</td>\n",
       "      <td>Rajiv Gandhi International Stadium, Uppal</td>\n",
       "    </tr>\n",
       "  </tbody>\n",
       "</table>\n",
       "</div>"
      ],
      "text/plain": [
       "     season        city       date                team1  \\\n",
       "116    2008      Mumbai   6/1/2008  Chennai Super Kings   \n",
       "82     2008      Jaipur   5/4/2008  Chennai Super Kings   \n",
       "81     2008      Mumbai   5/4/2008       Mumbai Indians   \n",
       "80     2008  Chandigarh   5/3/2008      Kings XI Punjab   \n",
       "79     2008   Hyderabad  5/25/2008      Deccan Chargers   \n",
       "\n",
       "                           team2          toss_winner toss_decision  result  \\\n",
       "116             Rajasthan Royals     Rajasthan Royals         field  normal   \n",
       "82              Rajasthan Royals  Chennai Super Kings           bat  normal   \n",
       "81              Delhi Daredevils     Delhi Daredevils         field  normal   \n",
       "80         Kolkata Knight Riders      Kings XI Punjab           bat  normal   \n",
       "79   Royal Challengers Bangalore      Deccan Chargers           bat  normal   \n",
       "\n",
       "     dl_applied                       winner  win_by_runs  win_by_wickets  \\\n",
       "116           0             Rajasthan Royals            0               3   \n",
       "82            0             Rajasthan Royals            0               8   \n",
       "81            0               Mumbai Indians           29               0   \n",
       "80            0              Kings XI Punjab            9               0   \n",
       "79            0  Royal Challengers Bangalore            0               5   \n",
       "\n",
       "                                          venue  \n",
       "116                  Dr DY Patil Sports Academy  \n",
       "82                       Sawai Mansingh Stadium  \n",
       "81                   Dr DY Patil Sports Academy  \n",
       "80   Punjab Cricket Association Stadium, Mohali  \n",
       "79    Rajiv Gandhi International Stadium, Uppal  "
      ]
     },
     "execution_count": 2,
     "metadata": {},
     "output_type": "execute_result"
    }
   ],
   "source": [
    "# Reading the dataset\n",
    "iplmatches = pd.read_csv('matches.csv')\n",
    "# Sorting by the season\n",
    "iplmatches = iplmatches.sort_values('season')\n",
    "# Subsetting the data to the required columns\n",
    "iplmatches = iplmatches[['season', 'city', 'date', 'team1', 'team2', 'toss_winner', 'toss_decision', 'result', 'dl_applied', \n",
    "                         'winner', 'win_by_runs', 'win_by_wickets', 'venue']]\n",
    "# Viewing the first five rows of the dataset\n",
    "iplmatches.head()"
   ]
  },
  {
   "cell_type": "code",
   "execution_count": 3,
   "id": "bb27e161",
   "metadata": {
    "colab": {
     "background_save": true
    },
    "id": "ce22ffe2"
   },
   "outputs": [
    {
     "data": {
      "text/plain": [
       "season            0\n",
       "city              7\n",
       "date              0\n",
       "team1             0\n",
       "team2             0\n",
       "toss_winner       0\n",
       "toss_decision     0\n",
       "result            0\n",
       "dl_applied        0\n",
       "winner            4\n",
       "win_by_runs       0\n",
       "win_by_wickets    0\n",
       "venue             0\n",
       "dtype: int64"
      ]
     },
     "execution_count": 3,
     "metadata": {},
     "output_type": "execute_result"
    }
   ],
   "source": [
    "# Checking the number of null values in each column\n",
    "iplmatches.isnull().sum()"
   ]
  },
  {
   "cell_type": "code",
   "execution_count": 4,
   "id": "d89e16d9",
   "metadata": {
    "colab": {
     "background_save": true
    },
    "id": "4aa19d5b"
   },
   "outputs": [
    {
     "data": {
      "text/html": [
       "<div>\n",
       "<style scoped>\n",
       "    .dataframe tbody tr th:only-of-type {\n",
       "        vertical-align: middle;\n",
       "    }\n",
       "\n",
       "    .dataframe tbody tr th {\n",
       "        vertical-align: top;\n",
       "    }\n",
       "\n",
       "    .dataframe thead th {\n",
       "        text-align: right;\n",
       "    }\n",
       "</style>\n",
       "<table border=\"1\" class=\"dataframe\">\n",
       "  <thead>\n",
       "    <tr style=\"text-align: right;\">\n",
       "      <th></th>\n",
       "      <th>season</th>\n",
       "      <th>city</th>\n",
       "      <th>date</th>\n",
       "      <th>team1</th>\n",
       "      <th>team2</th>\n",
       "      <th>toss_winner</th>\n",
       "      <th>toss_decision</th>\n",
       "      <th>result</th>\n",
       "      <th>dl_applied</th>\n",
       "      <th>winner</th>\n",
       "      <th>win_by_runs</th>\n",
       "      <th>win_by_wickets</th>\n",
       "      <th>venue</th>\n",
       "    </tr>\n",
       "  </thead>\n",
       "  <tbody>\n",
       "    <tr>\n",
       "      <th>474</th>\n",
       "      <td>2014</td>\n",
       "      <td>NaN</td>\n",
       "      <td>4/28/2014</td>\n",
       "      <td>Royal Challengers Bangalore</td>\n",
       "      <td>Kings XI Punjab</td>\n",
       "      <td>Kings XI Punjab</td>\n",
       "      <td>field</td>\n",
       "      <td>normal</td>\n",
       "      <td>0</td>\n",
       "      <td>Kings XI Punjab</td>\n",
       "      <td>0</td>\n",
       "      <td>5</td>\n",
       "      <td>Dubai International Cricket Stadium</td>\n",
       "    </tr>\n",
       "    <tr>\n",
       "      <th>476</th>\n",
       "      <td>2014</td>\n",
       "      <td>NaN</td>\n",
       "      <td>4/30/2014</td>\n",
       "      <td>Sunrisers Hyderabad</td>\n",
       "      <td>Mumbai Indians</td>\n",
       "      <td>Mumbai Indians</td>\n",
       "      <td>field</td>\n",
       "      <td>normal</td>\n",
       "      <td>0</td>\n",
       "      <td>Sunrisers Hyderabad</td>\n",
       "      <td>15</td>\n",
       "      <td>0</td>\n",
       "      <td>Dubai International Cricket Stadium</td>\n",
       "    </tr>\n",
       "    <tr>\n",
       "      <th>469</th>\n",
       "      <td>2014</td>\n",
       "      <td>NaN</td>\n",
       "      <td>4/25/2014</td>\n",
       "      <td>Mumbai Indians</td>\n",
       "      <td>Chennai Super Kings</td>\n",
       "      <td>Mumbai Indians</td>\n",
       "      <td>bat</td>\n",
       "      <td>normal</td>\n",
       "      <td>0</td>\n",
       "      <td>Chennai Super Kings</td>\n",
       "      <td>0</td>\n",
       "      <td>7</td>\n",
       "      <td>Dubai International Cricket Stadium</td>\n",
       "    </tr>\n",
       "    <tr>\n",
       "      <th>468</th>\n",
       "      <td>2014</td>\n",
       "      <td>NaN</td>\n",
       "      <td>4/25/2014</td>\n",
       "      <td>Sunrisers Hyderabad</td>\n",
       "      <td>Delhi Daredevils</td>\n",
       "      <td>Sunrisers Hyderabad</td>\n",
       "      <td>bat</td>\n",
       "      <td>normal</td>\n",
       "      <td>0</td>\n",
       "      <td>Sunrisers Hyderabad</td>\n",
       "      <td>4</td>\n",
       "      <td>0</td>\n",
       "      <td>Dubai International Cricket Stadium</td>\n",
       "    </tr>\n",
       "    <tr>\n",
       "      <th>466</th>\n",
       "      <td>2014</td>\n",
       "      <td>NaN</td>\n",
       "      <td>4/23/2014</td>\n",
       "      <td>Chennai Super Kings</td>\n",
       "      <td>Rajasthan Royals</td>\n",
       "      <td>Rajasthan Royals</td>\n",
       "      <td>field</td>\n",
       "      <td>normal</td>\n",
       "      <td>0</td>\n",
       "      <td>Chennai Super Kings</td>\n",
       "      <td>7</td>\n",
       "      <td>0</td>\n",
       "      <td>Dubai International Cricket Stadium</td>\n",
       "    </tr>\n",
       "    <tr>\n",
       "      <th>462</th>\n",
       "      <td>2014</td>\n",
       "      <td>NaN</td>\n",
       "      <td>4/19/2014</td>\n",
       "      <td>Kolkata Knight Riders</td>\n",
       "      <td>Delhi Daredevils</td>\n",
       "      <td>Kolkata Knight Riders</td>\n",
       "      <td>bat</td>\n",
       "      <td>normal</td>\n",
       "      <td>0</td>\n",
       "      <td>Delhi Daredevils</td>\n",
       "      <td>0</td>\n",
       "      <td>4</td>\n",
       "      <td>Dubai International Cricket Stadium</td>\n",
       "    </tr>\n",
       "    <tr>\n",
       "      <th>461</th>\n",
       "      <td>2014</td>\n",
       "      <td>NaN</td>\n",
       "      <td>4/19/2014</td>\n",
       "      <td>Mumbai Indians</td>\n",
       "      <td>Royal Challengers Bangalore</td>\n",
       "      <td>Royal Challengers Bangalore</td>\n",
       "      <td>field</td>\n",
       "      <td>normal</td>\n",
       "      <td>0</td>\n",
       "      <td>Royal Challengers Bangalore</td>\n",
       "      <td>0</td>\n",
       "      <td>7</td>\n",
       "      <td>Dubai International Cricket Stadium</td>\n",
       "    </tr>\n",
       "  </tbody>\n",
       "</table>\n",
       "</div>"
      ],
      "text/plain": [
       "     season city       date                        team1  \\\n",
       "474    2014  NaN  4/28/2014  Royal Challengers Bangalore   \n",
       "476    2014  NaN  4/30/2014          Sunrisers Hyderabad   \n",
       "469    2014  NaN  4/25/2014               Mumbai Indians   \n",
       "468    2014  NaN  4/25/2014          Sunrisers Hyderabad   \n",
       "466    2014  NaN  4/23/2014          Chennai Super Kings   \n",
       "462    2014  NaN  4/19/2014        Kolkata Knight Riders   \n",
       "461    2014  NaN  4/19/2014               Mumbai Indians   \n",
       "\n",
       "                           team2                  toss_winner toss_decision  \\\n",
       "474              Kings XI Punjab              Kings XI Punjab         field   \n",
       "476               Mumbai Indians               Mumbai Indians         field   \n",
       "469          Chennai Super Kings               Mumbai Indians           bat   \n",
       "468             Delhi Daredevils          Sunrisers Hyderabad           bat   \n",
       "466             Rajasthan Royals             Rajasthan Royals         field   \n",
       "462             Delhi Daredevils        Kolkata Knight Riders           bat   \n",
       "461  Royal Challengers Bangalore  Royal Challengers Bangalore         field   \n",
       "\n",
       "     result  dl_applied                       winner  win_by_runs  \\\n",
       "474  normal           0              Kings XI Punjab            0   \n",
       "476  normal           0          Sunrisers Hyderabad           15   \n",
       "469  normal           0          Chennai Super Kings            0   \n",
       "468  normal           0          Sunrisers Hyderabad            4   \n",
       "466  normal           0          Chennai Super Kings            7   \n",
       "462  normal           0             Delhi Daredevils            0   \n",
       "461  normal           0  Royal Challengers Bangalore            0   \n",
       "\n",
       "     win_by_wickets                                venue  \n",
       "474               5  Dubai International Cricket Stadium  \n",
       "476               0  Dubai International Cricket Stadium  \n",
       "469               7  Dubai International Cricket Stadium  \n",
       "468               0  Dubai International Cricket Stadium  \n",
       "466               0  Dubai International Cricket Stadium  \n",
       "462               4  Dubai International Cricket Stadium  \n",
       "461               7  Dubai International Cricket Stadium  "
      ]
     },
     "execution_count": 4,
     "metadata": {},
     "output_type": "execute_result"
    }
   ],
   "source": [
    "# Printing the rows which have null values in 'city' column\n",
    "iplmatches[iplmatches['city'].isnull()]"
   ]
  },
  {
   "cell_type": "code",
   "execution_count": 5,
   "id": "71fad235",
   "metadata": {
    "colab": {
     "background_save": true
    },
    "id": "e47c43e0"
   },
   "outputs": [],
   "source": [
    "# All the missing values in the 'city' column has the true value of Dubai. \n",
    "# The above information is obtained form the following source: \n",
    "# https://www.cricbuzz.com/cricket-series/2261/indian-premier-league-2014/matches\n",
    "# Hence filling all the missing values by Dubai\n",
    "iplmatches['city'].fillna('Dubai',inplace=True)"
   ]
  },
  {
   "cell_type": "code",
   "execution_count": 6,
   "id": "1a37f70f",
   "metadata": {
    "colab": {
     "background_save": true
    },
    "id": "73d99871"
   },
   "outputs": [
    {
     "data": {
      "text/html": [
       "<div>\n",
       "<style scoped>\n",
       "    .dataframe tbody tr th:only-of-type {\n",
       "        vertical-align: middle;\n",
       "    }\n",
       "\n",
       "    .dataframe tbody tr th {\n",
       "        vertical-align: top;\n",
       "    }\n",
       "\n",
       "    .dataframe thead th {\n",
       "        text-align: right;\n",
       "    }\n",
       "</style>\n",
       "<table border=\"1\" class=\"dataframe\">\n",
       "  <thead>\n",
       "    <tr style=\"text-align: right;\">\n",
       "      <th></th>\n",
       "      <th>season</th>\n",
       "      <th>city</th>\n",
       "      <th>date</th>\n",
       "      <th>team1</th>\n",
       "      <th>team2</th>\n",
       "      <th>toss_winner</th>\n",
       "      <th>toss_decision</th>\n",
       "      <th>result</th>\n",
       "      <th>dl_applied</th>\n",
       "      <th>winner</th>\n",
       "      <th>win_by_runs</th>\n",
       "      <th>win_by_wickets</th>\n",
       "      <th>venue</th>\n",
       "    </tr>\n",
       "  </thead>\n",
       "  <tbody>\n",
       "    <tr>\n",
       "      <th>300</th>\n",
       "      <td>2011</td>\n",
       "      <td>Delhi</td>\n",
       "      <td>5/21/2011</td>\n",
       "      <td>Delhi Daredevils</td>\n",
       "      <td>Pune Warriors</td>\n",
       "      <td>Delhi Daredevils</td>\n",
       "      <td>bat</td>\n",
       "      <td>no result</td>\n",
       "      <td>0</td>\n",
       "      <td>NaN</td>\n",
       "      <td>0</td>\n",
       "      <td>0</td>\n",
       "      <td>Feroz Shah Kotla</td>\n",
       "    </tr>\n",
       "    <tr>\n",
       "      <th>545</th>\n",
       "      <td>2015</td>\n",
       "      <td>Bangalore</td>\n",
       "      <td>4/29/2015</td>\n",
       "      <td>Royal Challengers Bangalore</td>\n",
       "      <td>Rajasthan Royals</td>\n",
       "      <td>Rajasthan Royals</td>\n",
       "      <td>field</td>\n",
       "      <td>no result</td>\n",
       "      <td>0</td>\n",
       "      <td>NaN</td>\n",
       "      <td>0</td>\n",
       "      <td>0</td>\n",
       "      <td>M Chinnaswamy Stadium</td>\n",
       "    </tr>\n",
       "    <tr>\n",
       "      <th>570</th>\n",
       "      <td>2015</td>\n",
       "      <td>Bangalore</td>\n",
       "      <td>5/17/2015</td>\n",
       "      <td>Delhi Daredevils</td>\n",
       "      <td>Royal Challengers Bangalore</td>\n",
       "      <td>Royal Challengers Bangalore</td>\n",
       "      <td>field</td>\n",
       "      <td>no result</td>\n",
       "      <td>0</td>\n",
       "      <td>NaN</td>\n",
       "      <td>0</td>\n",
       "      <td>0</td>\n",
       "      <td>M Chinnaswamy Stadium</td>\n",
       "    </tr>\n",
       "    <tr>\n",
       "      <th>744</th>\n",
       "      <td>2019</td>\n",
       "      <td>Bengaluru</td>\n",
       "      <td>30/04/19</td>\n",
       "      <td>Royal Challengers Bangalore</td>\n",
       "      <td>Rajasthan Royals</td>\n",
       "      <td>Rajasthan Royals</td>\n",
       "      <td>field</td>\n",
       "      <td>no result</td>\n",
       "      <td>0</td>\n",
       "      <td>NaN</td>\n",
       "      <td>0</td>\n",
       "      <td>0</td>\n",
       "      <td>M. Chinnaswamy Stadium</td>\n",
       "    </tr>\n",
       "  </tbody>\n",
       "</table>\n",
       "</div>"
      ],
      "text/plain": [
       "     season       city       date                        team1  \\\n",
       "300    2011      Delhi  5/21/2011             Delhi Daredevils   \n",
       "545    2015  Bangalore  4/29/2015  Royal Challengers Bangalore   \n",
       "570    2015  Bangalore  5/17/2015             Delhi Daredevils   \n",
       "744    2019  Bengaluru   30/04/19  Royal Challengers Bangalore   \n",
       "\n",
       "                           team2                  toss_winner toss_decision  \\\n",
       "300                Pune Warriors             Delhi Daredevils           bat   \n",
       "545             Rajasthan Royals             Rajasthan Royals         field   \n",
       "570  Royal Challengers Bangalore  Royal Challengers Bangalore         field   \n",
       "744             Rajasthan Royals             Rajasthan Royals         field   \n",
       "\n",
       "        result  dl_applied winner  win_by_runs  win_by_wickets  \\\n",
       "300  no result           0    NaN            0               0   \n",
       "545  no result           0    NaN            0               0   \n",
       "570  no result           0    NaN            0               0   \n",
       "744  no result           0    NaN            0               0   \n",
       "\n",
       "                      venue  \n",
       "300        Feroz Shah Kotla  \n",
       "545   M Chinnaswamy Stadium  \n",
       "570   M Chinnaswamy Stadium  \n",
       "744  M. Chinnaswamy Stadium  "
      ]
     },
     "execution_count": 6,
     "metadata": {},
     "output_type": "execute_result"
    }
   ],
   "source": [
    "# Printing the rows which have null values in 'winner' column\n",
    "iplmatches[iplmatches['winner'].isnull()]"
   ]
  },
  {
   "cell_type": "code",
   "execution_count": 7,
   "id": "58eca60d",
   "metadata": {
    "colab": {
     "background_save": true
    },
    "id": "efae721e"
   },
   "outputs": [],
   "source": [
    "# The row '300' match was abandoned, so the row is dropped\n",
    "# The row '545' match had no result, so the row is dropped\n",
    "# The row '570' match had no result, so the row is dropped\n",
    "# The row '744' match had no result, so the row is dropped\n",
    "# Source for all the above information: https://www.cricbuzz.com\n",
    "iplmatches = iplmatches.dropna(subset=['winner'])"
   ]
  },
  {
   "cell_type": "code",
   "execution_count": 8,
   "id": "cb329fae",
   "metadata": {
    "colab": {
     "background_save": true
    },
    "id": "90285440"
   },
   "outputs": [
    {
     "data": {
      "text/plain": [
       "season            0\n",
       "city              0\n",
       "date              0\n",
       "team1             0\n",
       "team2             0\n",
       "toss_winner       0\n",
       "toss_decision     0\n",
       "result            0\n",
       "dl_applied        0\n",
       "winner            0\n",
       "win_by_runs       0\n",
       "win_by_wickets    0\n",
       "venue             0\n",
       "dtype: int64"
      ]
     },
     "execution_count": 8,
     "metadata": {},
     "output_type": "execute_result"
    }
   ],
   "source": [
    "# Checking the number of null values in each column to verify\n",
    "iplmatches.isnull().sum()"
   ]
  },
  {
   "cell_type": "code",
   "execution_count": 9,
   "id": "21af6bdb",
   "metadata": {
    "colab": {
     "background_save": true
    },
    "id": "818cb5fb"
   },
   "outputs": [],
   "source": [
    "# There are no null values now"
   ]
  },
  {
   "cell_type": "code",
   "execution_count": 10,
   "id": "d642e557",
   "metadata": {
    "colab": {
     "background_save": true
    },
    "id": "b3aa6250"
   },
   "outputs": [],
   "source": [
    "# Dropping 'date' column since it is not required for the model\n",
    "iplmatches = iplmatches.drop(['date'], axis=1)"
   ]
  },
  {
   "cell_type": "code",
   "execution_count": 11,
   "id": "67299322",
   "metadata": {
    "colab": {
     "background_save": true
    },
    "id": "b9bade57"
   },
   "outputs": [
    {
     "data": {
      "text/html": [
       "<div>\n",
       "<style scoped>\n",
       "    .dataframe tbody tr th:only-of-type {\n",
       "        vertical-align: middle;\n",
       "    }\n",
       "\n",
       "    .dataframe tbody tr th {\n",
       "        vertical-align: top;\n",
       "    }\n",
       "\n",
       "    .dataframe thead th {\n",
       "        text-align: right;\n",
       "    }\n",
       "</style>\n",
       "<table border=\"1\" class=\"dataframe\">\n",
       "  <thead>\n",
       "    <tr style=\"text-align: right;\">\n",
       "      <th></th>\n",
       "      <th>season</th>\n",
       "      <th>city</th>\n",
       "      <th>team1</th>\n",
       "      <th>team2</th>\n",
       "      <th>toss_winner</th>\n",
       "      <th>toss_decision</th>\n",
       "      <th>result</th>\n",
       "      <th>dl_applied</th>\n",
       "      <th>winner</th>\n",
       "      <th>win_by_runs</th>\n",
       "      <th>win_by_wickets</th>\n",
       "      <th>venue</th>\n",
       "    </tr>\n",
       "  </thead>\n",
       "  <tbody>\n",
       "    <tr>\n",
       "      <th>116</th>\n",
       "      <td>2008</td>\n",
       "      <td>Mumbai</td>\n",
       "      <td>Chennai Super Kings</td>\n",
       "      <td>Rajasthan Royals</td>\n",
       "      <td>Rajasthan Royals</td>\n",
       "      <td>field</td>\n",
       "      <td>normal</td>\n",
       "      <td>0</td>\n",
       "      <td>Rajasthan Royals</td>\n",
       "      <td>0</td>\n",
       "      <td>3</td>\n",
       "      <td>Dr DY Patil Sports Academy</td>\n",
       "    </tr>\n",
       "    <tr>\n",
       "      <th>82</th>\n",
       "      <td>2008</td>\n",
       "      <td>Jaipur</td>\n",
       "      <td>Chennai Super Kings</td>\n",
       "      <td>Rajasthan Royals</td>\n",
       "      <td>Chennai Super Kings</td>\n",
       "      <td>bat</td>\n",
       "      <td>normal</td>\n",
       "      <td>0</td>\n",
       "      <td>Rajasthan Royals</td>\n",
       "      <td>0</td>\n",
       "      <td>8</td>\n",
       "      <td>Sawai Mansingh Stadium</td>\n",
       "    </tr>\n",
       "    <tr>\n",
       "      <th>81</th>\n",
       "      <td>2008</td>\n",
       "      <td>Mumbai</td>\n",
       "      <td>Mumbai Indians</td>\n",
       "      <td>Delhi Daredevils</td>\n",
       "      <td>Delhi Daredevils</td>\n",
       "      <td>field</td>\n",
       "      <td>normal</td>\n",
       "      <td>0</td>\n",
       "      <td>Mumbai Indians</td>\n",
       "      <td>29</td>\n",
       "      <td>0</td>\n",
       "      <td>Dr DY Patil Sports Academy</td>\n",
       "    </tr>\n",
       "    <tr>\n",
       "      <th>80</th>\n",
       "      <td>2008</td>\n",
       "      <td>Chandigarh</td>\n",
       "      <td>Kings XI Punjab</td>\n",
       "      <td>Kolkata Knight Riders</td>\n",
       "      <td>Kings XI Punjab</td>\n",
       "      <td>bat</td>\n",
       "      <td>normal</td>\n",
       "      <td>0</td>\n",
       "      <td>Kings XI Punjab</td>\n",
       "      <td>9</td>\n",
       "      <td>0</td>\n",
       "      <td>Punjab Cricket Association Stadium, Mohali</td>\n",
       "    </tr>\n",
       "    <tr>\n",
       "      <th>79</th>\n",
       "      <td>2008</td>\n",
       "      <td>Hyderabad</td>\n",
       "      <td>Deccan Chargers</td>\n",
       "      <td>Royal Challengers Bangalore</td>\n",
       "      <td>Deccan Chargers</td>\n",
       "      <td>bat</td>\n",
       "      <td>normal</td>\n",
       "      <td>0</td>\n",
       "      <td>Royal Challengers Bangalore</td>\n",
       "      <td>0</td>\n",
       "      <td>5</td>\n",
       "      <td>Rajiv Gandhi International Stadium, Uppal</td>\n",
       "    </tr>\n",
       "  </tbody>\n",
       "</table>\n",
       "</div>"
      ],
      "text/plain": [
       "     season        city                team1                        team2  \\\n",
       "116    2008      Mumbai  Chennai Super Kings             Rajasthan Royals   \n",
       "82     2008      Jaipur  Chennai Super Kings             Rajasthan Royals   \n",
       "81     2008      Mumbai       Mumbai Indians             Delhi Daredevils   \n",
       "80     2008  Chandigarh      Kings XI Punjab        Kolkata Knight Riders   \n",
       "79     2008   Hyderabad      Deccan Chargers  Royal Challengers Bangalore   \n",
       "\n",
       "             toss_winner toss_decision  result  dl_applied  \\\n",
       "116     Rajasthan Royals         field  normal           0   \n",
       "82   Chennai Super Kings           bat  normal           0   \n",
       "81      Delhi Daredevils         field  normal           0   \n",
       "80       Kings XI Punjab           bat  normal           0   \n",
       "79       Deccan Chargers           bat  normal           0   \n",
       "\n",
       "                          winner  win_by_runs  win_by_wickets  \\\n",
       "116             Rajasthan Royals            0               3   \n",
       "82              Rajasthan Royals            0               8   \n",
       "81                Mumbai Indians           29               0   \n",
       "80               Kings XI Punjab            9               0   \n",
       "79   Royal Challengers Bangalore            0               5   \n",
       "\n",
       "                                          venue  \n",
       "116                  Dr DY Patil Sports Academy  \n",
       "82                       Sawai Mansingh Stadium  \n",
       "81                   Dr DY Patil Sports Academy  \n",
       "80   Punjab Cricket Association Stadium, Mohali  \n",
       "79    Rajiv Gandhi International Stadium, Uppal  "
      ]
     },
     "execution_count": 11,
     "metadata": {},
     "output_type": "execute_result"
    }
   ],
   "source": [
    "# Viewing the first five rows of the dataset\n",
    "iplmatches.head()"
   ]
  },
  {
   "cell_type": "code",
   "execution_count": 12,
   "id": "53c56706",
   "metadata": {
    "colab": {
     "background_save": true
    },
    "id": "4f1ce859"
   },
   "outputs": [
    {
     "data": {
      "text/plain": [
       "array([2008, 2009, 2010, 2011, 2012, 2013, 2014, 2015, 2016, 2017, 2018,\n",
       "       2019], dtype=int64)"
      ]
     },
     "execution_count": 12,
     "metadata": {},
     "output_type": "execute_result"
    }
   ],
   "source": [
    "# Checking the unique values in 'season' column\n",
    "iplmatches[\"season\"].unique()"
   ]
  },
  {
   "cell_type": "code",
   "execution_count": 13,
   "id": "ccc38fb7",
   "metadata": {
    "colab": {
     "background_save": true
    },
    "id": "d4a0af18"
   },
   "outputs": [],
   "source": [
    "# There are no issues with the 'season' column"
   ]
  },
  {
   "cell_type": "code",
   "execution_count": 14,
   "id": "cdf8b3a1",
   "metadata": {
    "colab": {
     "background_save": true
    },
    "id": "e2beadde"
   },
   "outputs": [
    {
     "data": {
      "text/plain": [
       "Mumbai            101\n",
       "Kolkata            77\n",
       "Delhi              73\n",
       "Hyderabad          64\n",
       "Bangalore          64\n",
       "Chennai            57\n",
       "Jaipur             47\n",
       "Chandigarh         46\n",
       "Pune               38\n",
       "Durban             15\n",
       "Bengaluru          13\n",
       "Visakhapatnam      13\n",
       "Ahmedabad          12\n",
       "Centurion          12\n",
       "Mohali             10\n",
       "Rajkot             10\n",
       "Dharamsala          9\n",
       "Indore              9\n",
       "Johannesburg        8\n",
       "Cuttack             7\n",
       "Ranchi              7\n",
       "Dubai               7\n",
       "Abu Dhabi           7\n",
       "Port Elizabeth      7\n",
       "Cape Town           7\n",
       "Raipur              6\n",
       "Sharjah             6\n",
       "Kochi               5\n",
       "Kanpur              4\n",
       "Nagpur              3\n",
       "Kimberley           3\n",
       "East London         3\n",
       "Bloemfontein        2\n",
       "Name: city, dtype: int64"
      ]
     },
     "execution_count": 14,
     "metadata": {},
     "output_type": "execute_result"
    }
   ],
   "source": [
    "# Checking the unique values and their corresponding frequency in 'city' column\n",
    "iplmatches[\"city\"].value_counts()"
   ]
  },
  {
   "cell_type": "code",
   "execution_count": 15,
   "id": "4a8438e1",
   "metadata": {
    "colab": {
     "background_save": true
    },
    "id": "83796fa7"
   },
   "outputs": [],
   "source": [
    "# There are few values which refer to the same city but with slightly different spellings. These are corrected below."
   ]
  },
  {
   "cell_type": "code",
   "execution_count": 16,
   "id": "34ec2617",
   "metadata": {
    "colab": {
     "background_save": true
    },
    "id": "d7c91b7b"
   },
   "outputs": [],
   "source": [
    "# Since Banglore and Bengaluru are the same cities, renaming all of them to Banglore\n",
    "iplmatches['city'] = iplmatches['city'].str.replace('Bengaluru','Bangalore')"
   ]
  },
  {
   "cell_type": "code",
   "execution_count": 17,
   "id": "406198a7",
   "metadata": {
    "colab": {
     "background_save": true
    },
    "id": "1b53d3d1"
   },
   "outputs": [
    {
     "data": {
      "text/plain": [
       "Mumbai            101\n",
       "Kolkata            77\n",
       "Bangalore          77\n",
       "Delhi              73\n",
       "Hyderabad          64\n",
       "Chennai            57\n",
       "Jaipur             47\n",
       "Chandigarh         46\n",
       "Pune               38\n",
       "Durban             15\n",
       "Visakhapatnam      13\n",
       "Ahmedabad          12\n",
       "Centurion          12\n",
       "Mohali             10\n",
       "Rajkot             10\n",
       "Dharamsala          9\n",
       "Indore              9\n",
       "Johannesburg        8\n",
       "Cuttack             7\n",
       "Port Elizabeth      7\n",
       "Cape Town           7\n",
       "Ranchi              7\n",
       "Dubai               7\n",
       "Abu Dhabi           7\n",
       "Raipur              6\n",
       "Sharjah             6\n",
       "Kochi               5\n",
       "Kanpur              4\n",
       "Nagpur              3\n",
       "Kimberley           3\n",
       "East London         3\n",
       "Bloemfontein        2\n",
       "Name: city, dtype: int64"
      ]
     },
     "execution_count": 17,
     "metadata": {},
     "output_type": "execute_result"
    }
   ],
   "source": [
    "# checking the unique values and their corresponsing frequency in 'city' column to verify\n",
    "iplmatches[\"city\"].value_counts()"
   ]
  },
  {
   "cell_type": "code",
   "execution_count": 18,
   "id": "2778f5f3",
   "metadata": {
    "colab": {
     "background_save": true
    },
    "id": "11664cff"
   },
   "outputs": [],
   "source": [
    "# Now there are no issues with the 'city' column"
   ]
  },
  {
   "cell_type": "code",
   "execution_count": 19,
   "id": "cb52ef85",
   "metadata": {
    "colab": {
     "background_save": true
    },
    "id": "ea47c233"
   },
   "outputs": [
    {
     "data": {
      "text/plain": [
       "array(['Chennai Super Kings', 'Mumbai Indians', 'Kings XI Punjab',\n",
       "       'Deccan Chargers', 'Rajasthan Royals', 'Delhi Daredevils',\n",
       "       'Kolkata Knight Riders', 'Royal Challengers Bangalore',\n",
       "       'Kochi Tuskers Kerala', 'Pune Warriors', 'Sunrisers Hyderabad',\n",
       "       'Gujarat Lions', 'Rising Pune Supergiants',\n",
       "       'Rising Pune Supergiant', 'Delhi Capitals'], dtype=object)"
      ]
     },
     "execution_count": 19,
     "metadata": {},
     "output_type": "execute_result"
    }
   ],
   "source": [
    "# Checking the unique values in 'team1' column\n",
    "iplmatches[\"team1\"].unique()"
   ]
  },
  {
   "cell_type": "code",
   "execution_count": 20,
   "id": "b4bf9661",
   "metadata": {
    "colab": {
     "background_save": true
    },
    "id": "0f7d0a7c"
   },
   "outputs": [],
   "source": [
    "# There are few values which refer to the same team but were changed over the years. These are corrected below for \n",
    "# all the following three columns: 'team1' , 'team2' , 'winnner'"
   ]
  },
  {
   "cell_type": "code",
   "execution_count": 21,
   "id": "9aef9080",
   "metadata": {
    "colab": {
     "background_save": true
    },
    "id": "74933f19"
   },
   "outputs": [],
   "source": [
    "# Since Delhi Daredevils and Delhi Capitals are the same teams, renaming all of them to Delhi Capitals\n",
    "iplmatches['team1'] = iplmatches['team1'].str.replace('Delhi Daredevils','Delhi Capitals')\n",
    "iplmatches['team2'] = iplmatches['team2'].str.replace('Delhi Daredevils','Delhi Capitals')\n",
    "iplmatches['winner'] = iplmatches['winner'].str.replace('Delhi Daredevils','Delhi Capitals')\n",
    "# Since Decan Chargers and Sunrisers Hyderabad are the same teams, renaming all of them to Sunrisers Hyderabad\n",
    "iplmatches['team1'] = iplmatches['team1'].str.replace('Deccan Chargers','Sunrisers Hyderabad')\n",
    "iplmatches['team2'] = iplmatches['team2'].str.replace('Deccan Chargers','Sunrisers Hyderabad')\n",
    "iplmatches['winner'] = iplmatches['winner'].str.replace('Deccan Chargers','Sunrisers Hyderabad')\n",
    "# Since Rising Pune Supergiants and Rising Pune Supergiant are the same teams, renaming all of them to Rising Pune Supergiant\n",
    "iplmatches['team1'] = iplmatches['team1'].str.replace('Rising Pune Supergiants','Rising Pune Supergiant')\n",
    "iplmatches['team2'] = iplmatches['team2'].str.replace('Rising Pune Supergiants','Rising Pune Supergiant')\n",
    "iplmatches['winner'] = iplmatches['winner'].str.replace('Rising Pune Supergiants','Rising Pune Supergiant')"
   ]
  },
  {
   "cell_type": "code",
   "execution_count": 22,
   "id": "d772d973",
   "metadata": {
    "colab": {
     "background_save": true
    },
    "id": "d82fbb9b"
   },
   "outputs": [
    {
     "data": {
      "text/plain": [
       "Sunrisers Hyderabad            106\n",
       "Mumbai Indians                 101\n",
       "Kings XI Punjab                 91\n",
       "Chennai Super Kings             89\n",
       "Kolkata Knight Riders           83\n",
       "Royal Challengers Bangalore     83\n",
       "Delhi Capitals                  76\n",
       "Rajasthan Royals                67\n",
       "Pune Warriors                   20\n",
       "Rising Pune Supergiant          15\n",
       "Gujarat Lions                   14\n",
       "Kochi Tuskers Kerala             7\n",
       "Name: team1, dtype: int64"
      ]
     },
     "execution_count": 22,
     "metadata": {},
     "output_type": "execute_result"
    }
   ],
   "source": [
    "# checking the unique values and their corresponding frequency in 'team1' column\n",
    "iplmatches[\"team1\"].value_counts()"
   ]
  },
  {
   "cell_type": "code",
   "execution_count": 23,
   "id": "ad24df3b",
   "metadata": {
    "colab": {
     "background_save": true
    },
    "id": "77ecb4d9"
   },
   "outputs": [
    {
     "data": {
      "text/plain": [
       "Delhi Capitals                 99\n",
       "Kolkata Knight Riders          95\n",
       "Royal Challengers Bangalore    94\n",
       "Mumbai Indians                 86\n",
       "Kings XI Punjab                85\n",
       "Rajasthan Royals               78\n",
       "Sunrisers Hyderabad            77\n",
       "Chennai Super Kings            75\n",
       "Pune Warriors                  25\n",
       "Gujarat Lions                  16\n",
       "Rising Pune Supergiant         15\n",
       "Kochi Tuskers Kerala            7\n",
       "Name: team2, dtype: int64"
      ]
     },
     "execution_count": 23,
     "metadata": {},
     "output_type": "execute_result"
    }
   ],
   "source": [
    "# checking the unique values and their corresponding frequency in 'team2' column\n",
    "iplmatches[\"team2\"].value_counts()"
   ]
  },
  {
   "cell_type": "code",
   "execution_count": 24,
   "id": "d13e70cd",
   "metadata": {
    "colab": {
     "background_save": true
    },
    "id": "3a845c08"
   },
   "outputs": [
    {
     "data": {
      "text/plain": [
       "Mumbai Indians                 109\n",
       "Chennai Super Kings            100\n",
       "Kolkata Knight Riders           92\n",
       "Sunrisers Hyderabad             87\n",
       "Royal Challengers Bangalore     84\n",
       "Kings XI Punjab                 82\n",
       "Delhi Capitals                  77\n",
       "Rajasthan Royals                75\n",
       "Rising Pune Supergiant          15\n",
       "Gujarat Lions                   13\n",
       "Pune Warriors                   12\n",
       "Kochi Tuskers Kerala             6\n",
       "Name: winner, dtype: int64"
      ]
     },
     "execution_count": 24,
     "metadata": {},
     "output_type": "execute_result"
    }
   ],
   "source": [
    "# checking the unique values and their corresponding frequency in 'winner' column\n",
    "iplmatches[\"winner\"].value_counts()"
   ]
  },
  {
   "cell_type": "code",
   "execution_count": 25,
   "id": "628f1bf9",
   "metadata": {
    "colab": {
     "background_save": true
    },
    "id": "05327669"
   },
   "outputs": [],
   "source": [
    "# Since Rising Pune Supergiant, Gujarat Lions, Pune Warriors and Kochi Tuskers Kerala played only few seasons and \n",
    "# have very few matches played, removing all the enteries of them\n",
    "# These teams can be either in team1 or team2, by removing them sequentially, all the enteries of them will be removed \n",
    "# and we need not do for the 'winner' column after that\n",
    "iplmatches = iplmatches[~iplmatches['team1'].isin(['Rising Pune Supergiant', 'Gujarat Lions', 'Pune Warriors',\n",
    "                                                              'Kochi Tuskers Kerala'])]\n",
    "iplmatches = iplmatches[~iplmatches['team2'].isin(['Rising Pune Supergiant', 'Gujarat Lions', 'Pune Warriors',\n",
    "                                                              'Kochi Tuskers Kerala'])]"
   ]
  },
  {
   "cell_type": "code",
   "execution_count": 26,
   "id": "49fd132e",
   "metadata": {
    "colab": {
     "background_save": true
    },
    "id": "0a1ca241"
   },
   "outputs": [
    {
     "data": {
      "text/plain": [
       "Sunrisers Hyderabad            97\n",
       "Mumbai Indians                 92\n",
       "Chennai Super Kings            83\n",
       "Kings XI Punjab                83\n",
       "Kolkata Knight Riders          76\n",
       "Royal Challengers Bangalore    74\n",
       "Delhi Capitals                 69\n",
       "Rajasthan Royals               64\n",
       "Name: team1, dtype: int64"
      ]
     },
     "execution_count": 26,
     "metadata": {},
     "output_type": "execute_result"
    }
   ],
   "source": [
    "# checking the unique values and their corresponding frequency in 'team1' column to verify\n",
    "iplmatches[\"team1\"].value_counts()"
   ]
  },
  {
   "cell_type": "code",
   "execution_count": 27,
   "id": "01e42514",
   "metadata": {
    "colab": {
     "background_save": true
    },
    "id": "a95656be"
   },
   "outputs": [
    {
     "data": {
      "text/plain": [
       "Delhi Capitals                 91\n",
       "Kolkata Knight Riders          87\n",
       "Royal Challengers Bangalore    87\n",
       "Kings XI Punjab                78\n",
       "Mumbai Indians                 78\n",
       "Rajasthan Royals               74\n",
       "Chennai Super Kings            73\n",
       "Sunrisers Hyderabad            70\n",
       "Name: team2, dtype: int64"
      ]
     },
     "execution_count": 27,
     "metadata": {},
     "output_type": "execute_result"
    }
   ],
   "source": [
    "# checking the unique values and their corresponding frequency in 'team2' column to verify\n",
    "iplmatches[\"team2\"].value_counts()"
   ]
  },
  {
   "cell_type": "code",
   "execution_count": 28,
   "id": "f807fb3d",
   "metadata": {
    "colab": {
     "background_save": true
    },
    "id": "21ea3741"
   },
   "outputs": [
    {
     "data": {
      "text/plain": [
       "Mumbai Indians                 100\n",
       "Chennai Super Kings             95\n",
       "Kolkata Knight Riders           84\n",
       "Sunrisers Hyderabad             75\n",
       "Kings XI Punjab                 74\n",
       "Royal Challengers Bangalore     72\n",
       "Rajasthan Royals                70\n",
       "Delhi Capitals                  68\n",
       "Name: winner, dtype: int64"
      ]
     },
     "execution_count": 28,
     "metadata": {},
     "output_type": "execute_result"
    }
   ],
   "source": [
    "# checking the unique values and their corresponding frequency in 'winner' column to verify\n",
    "iplmatches[\"winner\"].value_counts()"
   ]
  },
  {
   "cell_type": "code",
   "execution_count": 29,
   "id": "6d9479ff",
   "metadata": {
    "colab": {
     "background_save": true
    },
    "id": "b9f04b7e"
   },
   "outputs": [],
   "source": [
    "# Now we have the eight major teams which played all the IPL seasons"
   ]
  },
  {
   "cell_type": "code",
   "execution_count": 30,
   "id": "18da6099",
   "metadata": {
    "colab": {
     "background_save": true
    },
    "id": "e7978890"
   },
   "outputs": [
    {
     "data": {
      "text/plain": [
       "array(['Rajasthan Royals', 'Chennai Super Kings', 'Delhi Daredevils',\n",
       "       'Kings XI Punjab', 'Deccan Chargers',\n",
       "       'Royal Challengers Bangalore', 'Kolkata Knight Riders',\n",
       "       'Mumbai Indians', 'Sunrisers Hyderabad', 'Delhi Capitals'],\n",
       "      dtype=object)"
      ]
     },
     "execution_count": 30,
     "metadata": {},
     "output_type": "execute_result"
    }
   ],
   "source": [
    "# checking the unique values in 'toss_winner' column\n",
    "iplmatches[\"toss_winner\"].unique()"
   ]
  },
  {
   "cell_type": "code",
   "execution_count": 31,
   "id": "74c663a5",
   "metadata": {
    "colab": {
     "background_save": true
    },
    "id": "feccefed"
   },
   "outputs": [],
   "source": [
    "# Since Delhi Daredevils and Delhi Capitals are the same teams, renaming all of them to Delhi Capitals\n",
    "iplmatches['toss_winner'] = iplmatches['toss_winner'].str.replace('Delhi Daredevils','Delhi Capitals')\n",
    "# Since Decan Chargers and Sunrisers Hyderabad are the same teams, renaming all of them to Sunrisers Hyderabad\n",
    "iplmatches['toss_winner'] = iplmatches['toss_winner'].str.replace('Deccan Chargers','Sunrisers Hyderabad')"
   ]
  },
  {
   "cell_type": "code",
   "execution_count": 32,
   "id": "c6ada495",
   "metadata": {
    "colab": {
     "background_save": true
    },
    "id": "c085ef12"
   },
   "outputs": [
    {
     "data": {
      "text/html": [
       "<div>\n",
       "<style scoped>\n",
       "    .dataframe tbody tr th:only-of-type {\n",
       "        vertical-align: middle;\n",
       "    }\n",
       "\n",
       "    .dataframe tbody tr th {\n",
       "        vertical-align: top;\n",
       "    }\n",
       "\n",
       "    .dataframe thead th {\n",
       "        text-align: right;\n",
       "    }\n",
       "</style>\n",
       "<table border=\"1\" class=\"dataframe\">\n",
       "  <thead>\n",
       "    <tr style=\"text-align: right;\">\n",
       "      <th></th>\n",
       "      <th>season</th>\n",
       "      <th>city</th>\n",
       "      <th>team1</th>\n",
       "      <th>team2</th>\n",
       "      <th>toss_winner</th>\n",
       "      <th>toss_decision</th>\n",
       "      <th>result</th>\n",
       "      <th>dl_applied</th>\n",
       "      <th>winner</th>\n",
       "      <th>win_by_runs</th>\n",
       "      <th>win_by_wickets</th>\n",
       "      <th>venue</th>\n",
       "    </tr>\n",
       "  </thead>\n",
       "  <tbody>\n",
       "    <tr>\n",
       "      <th>116</th>\n",
       "      <td>2008</td>\n",
       "      <td>Mumbai</td>\n",
       "      <td>CSK</td>\n",
       "      <td>RR</td>\n",
       "      <td>RR</td>\n",
       "      <td>field</td>\n",
       "      <td>normal</td>\n",
       "      <td>0</td>\n",
       "      <td>RR</td>\n",
       "      <td>0</td>\n",
       "      <td>3</td>\n",
       "      <td>Dr DY Patil Sports Academy</td>\n",
       "    </tr>\n",
       "    <tr>\n",
       "      <th>82</th>\n",
       "      <td>2008</td>\n",
       "      <td>Jaipur</td>\n",
       "      <td>CSK</td>\n",
       "      <td>RR</td>\n",
       "      <td>CSK</td>\n",
       "      <td>bat</td>\n",
       "      <td>normal</td>\n",
       "      <td>0</td>\n",
       "      <td>RR</td>\n",
       "      <td>0</td>\n",
       "      <td>8</td>\n",
       "      <td>Sawai Mansingh Stadium</td>\n",
       "    </tr>\n",
       "    <tr>\n",
       "      <th>81</th>\n",
       "      <td>2008</td>\n",
       "      <td>Mumbai</td>\n",
       "      <td>MI</td>\n",
       "      <td>DC</td>\n",
       "      <td>DC</td>\n",
       "      <td>field</td>\n",
       "      <td>normal</td>\n",
       "      <td>0</td>\n",
       "      <td>MI</td>\n",
       "      <td>29</td>\n",
       "      <td>0</td>\n",
       "      <td>Dr DY Patil Sports Academy</td>\n",
       "    </tr>\n",
       "    <tr>\n",
       "      <th>80</th>\n",
       "      <td>2008</td>\n",
       "      <td>Chandigarh</td>\n",
       "      <td>KXIP</td>\n",
       "      <td>KKR</td>\n",
       "      <td>KXIP</td>\n",
       "      <td>bat</td>\n",
       "      <td>normal</td>\n",
       "      <td>0</td>\n",
       "      <td>KXIP</td>\n",
       "      <td>9</td>\n",
       "      <td>0</td>\n",
       "      <td>Punjab Cricket Association Stadium, Mohali</td>\n",
       "    </tr>\n",
       "    <tr>\n",
       "      <th>79</th>\n",
       "      <td>2008</td>\n",
       "      <td>Hyderabad</td>\n",
       "      <td>SRH</td>\n",
       "      <td>RCB</td>\n",
       "      <td>SRH</td>\n",
       "      <td>bat</td>\n",
       "      <td>normal</td>\n",
       "      <td>0</td>\n",
       "      <td>RCB</td>\n",
       "      <td>0</td>\n",
       "      <td>5</td>\n",
       "      <td>Rajiv Gandhi International Stadium, Uppal</td>\n",
       "    </tr>\n",
       "  </tbody>\n",
       "</table>\n",
       "</div>"
      ],
      "text/plain": [
       "     season        city team1 team2 toss_winner toss_decision  result  \\\n",
       "116    2008      Mumbai   CSK    RR          RR         field  normal   \n",
       "82     2008      Jaipur   CSK    RR         CSK           bat  normal   \n",
       "81     2008      Mumbai    MI    DC          DC         field  normal   \n",
       "80     2008  Chandigarh  KXIP   KKR        KXIP           bat  normal   \n",
       "79     2008   Hyderabad   SRH   RCB         SRH           bat  normal   \n",
       "\n",
       "     dl_applied winner  win_by_runs  win_by_wickets  \\\n",
       "116           0     RR            0               3   \n",
       "82            0     RR            0               8   \n",
       "81            0     MI           29               0   \n",
       "80            0   KXIP            9               0   \n",
       "79            0    RCB            0               5   \n",
       "\n",
       "                                          venue  \n",
       "116                  Dr DY Patil Sports Academy  \n",
       "82                       Sawai Mansingh Stadium  \n",
       "81                   Dr DY Patil Sports Academy  \n",
       "80   Punjab Cricket Association Stadium, Mohali  \n",
       "79    Rajiv Gandhi International Stadium, Uppal  "
      ]
     },
     "execution_count": 32,
     "metadata": {},
     "output_type": "execute_result"
    }
   ],
   "source": [
    "# replacing all the team names with abbreviations\n",
    "iplmatches.replace(['Mumbai Indians', 'Chennai Super Kings', 'Kolkata Knight Riders', 'Sunrisers Hyderabad', 'Kings XI Punjab', \n",
    "            'Royal Challengers Bangalore', 'Rajasthan Royals', 'Delhi Capitals']\n",
    "                ,['MI','CSK','KKR','SRH','KXIP','RCB','RR','DC'], inplace=True)\n",
    "iplmatches.head()"
   ]
  },
  {
   "cell_type": "code",
   "execution_count": 33,
   "id": "655bd3be",
   "metadata": {
    "colab": {
     "background_save": true
    },
    "id": "ca83a6a2"
   },
   "outputs": [
    {
     "data": {
      "text/plain": [
       "array(['field', 'bat'], dtype=object)"
      ]
     },
     "execution_count": 33,
     "metadata": {},
     "output_type": "execute_result"
    }
   ],
   "source": [
    "# checking the unique values in 'toss_decision' column\n",
    "iplmatches[\"toss_decision\"].unique()"
   ]
  },
  {
   "cell_type": "code",
   "execution_count": 34,
   "id": "5553ac39",
   "metadata": {
    "colab": {
     "background_save": true
    },
    "id": "dd1d5faa"
   },
   "outputs": [],
   "source": [
    "# There are no issues with the 'toss_decision' column"
   ]
  },
  {
   "cell_type": "code",
   "execution_count": 35,
   "id": "9f7b1a18",
   "metadata": {
    "colab": {
     "background_save": true
    },
    "id": "9fc654e7"
   },
   "outputs": [
    {
     "data": {
      "text/plain": [
       "array(['normal', 'tie'], dtype=object)"
      ]
     },
     "execution_count": 35,
     "metadata": {},
     "output_type": "execute_result"
    }
   ],
   "source": [
    "# checking the unique values in 'result' column\n",
    "iplmatches[\"result\"].unique()"
   ]
  },
  {
   "cell_type": "code",
   "execution_count": 36,
   "id": "2a12af54",
   "metadata": {
    "colab": {
     "background_save": true
    },
    "id": "50dacd9d"
   },
   "outputs": [],
   "source": [
    "# There are no issues with the 'result' column"
   ]
  },
  {
   "cell_type": "code",
   "execution_count": 37,
   "id": "2bfcddee",
   "metadata": {
    "colab": {
     "background_save": true
    },
    "id": "22112a8b"
   },
   "outputs": [
    {
     "data": {
      "text/plain": [
       "array([0, 1], dtype=int64)"
      ]
     },
     "execution_count": 37,
     "metadata": {},
     "output_type": "execute_result"
    }
   ],
   "source": [
    "# checking the unique values in 'dl_applied' column\n",
    "iplmatches[\"dl_applied\"].unique()"
   ]
  },
  {
   "cell_type": "code",
   "execution_count": 38,
   "id": "d8b2460b",
   "metadata": {
    "colab": {
     "background_save": true
    },
    "id": "ad702448"
   },
   "outputs": [],
   "source": [
    "# There are no issues with the 'dl_applied' column"
   ]
  },
  {
   "cell_type": "code",
   "execution_count": 39,
   "id": "21ece812",
   "metadata": {
    "colab": {
     "background_save": true
    },
    "id": "8bf3f367",
    "scrolled": false
   },
   "outputs": [
    {
     "data": {
      "text/plain": [
       "Eden Gardens                                            71\n",
       "Wankhede Stadium                                        64\n",
       "M Chinnaswamy Stadium                                   62\n",
       "Feroz Shah Kotla                                        59\n",
       "Rajiv Gandhi International Stadium, Uppal               49\n",
       "MA Chidambaram Stadium, Chepauk                         45\n",
       "Sawai Mansingh Stadium                                  43\n",
       "Punjab Cricket Association Stadium, Mohali              32\n",
       "Kingsmead                                               15\n",
       "SuperSport Park                                         12\n",
       "Sardar Patel Stadium, Motera                            12\n",
       "Brabourne Stadium                                       11\n",
       "Punjab Cricket Association IS Bindra Stadium, Mohali    11\n",
       "Dr DY Patil Sports Academy                              10\n",
       "Maharashtra Cricket Association Stadium                 10\n",
       "Himachal Pradesh Cricket Association Stadium             9\n",
       "Rajiv Gandhi Intl. Cricket Stadium                       8\n",
       "New Wanderers Stadium                                    8\n",
       "M. A. Chidambaram Stadium                                8\n",
       "Dr. Y.S. Rajasekhara Reddy ACA-VDCA Cricket Stadium      8\n",
       "Dubai International Cricket Stadium                      7\n",
       "Feroz Shah Kotla Ground                                  7\n",
       "Sheikh Zayed Stadium                                     7\n",
       "IS Bindra Stadium                                        7\n",
       "Newlands                                                 7\n",
       "St George's Park                                         7\n",
       "JSCA International Stadium Complex                       6\n",
       "Sharjah Cricket Stadium                                  6\n",
       "Holkar Cricket Stadium                                   6\n",
       "M. Chinnaswamy Stadium                                   6\n",
       "Barabati Stadium                                         6\n",
       "Shaheed Veer Narayan Singh International Stadium         5\n",
       "Vidarbha Cricket Association Stadium, Jamtha             3\n",
       "De Beers Diamond Oval                                    3\n",
       "Buffalo Park                                             3\n",
       "OUTsurance Oval                                          2\n",
       "ACA-VDCA Stadium                                         2\n",
       "Subrata Roy Sahara Stadium                               1\n",
       "Name: venue, dtype: int64"
      ]
     },
     "execution_count": 39,
     "metadata": {},
     "output_type": "execute_result"
    }
   ],
   "source": [
    "# checking the unique values and their corresponding frequency in 'venue' column\n",
    "iplmatches[\"venue\"].value_counts()"
   ]
  },
  {
   "cell_type": "code",
   "execution_count": 40,
   "id": "6b41c837",
   "metadata": {
    "colab": {
     "background_save": true
    },
    "id": "57ebc1fc"
   },
   "outputs": [],
   "source": [
    "# There are few values which refer to the same venue but with slightly different spellings. These are corrected below."
   ]
  },
  {
   "cell_type": "code",
   "execution_count": 41,
   "id": "acfd24ee",
   "metadata": {
    "colab": {
     "background_save": true
    },
    "id": "a40d9c13"
   },
   "outputs": [],
   "source": [
    "# Since Punjab Cricket Association Stadium, Mohali, Punjab Cricket Association IS Bindra Stadium, Mohali and \n",
    "# IS Bindra Stadium are the same venues, renaming all of them to Punjab Cricket Association Stadium\n",
    "iplmatches['venue'] = iplmatches['venue'].str.replace('Punjab Cricket Association IS Bindra Stadium, Mohali',\n",
    "                                                    'Punjab Cricket Association Stadium, Mohali')\n",
    "iplmatches['venue'] = iplmatches['venue'].str.replace('IS Bindra Stadium',\n",
    "                                                    'Punjab Cricket Association Stadium, Mohali')\n",
    "# Since M Chinnaswamy Stadium and M. Chinnaswamy Stadium are the same venues, \n",
    "# renaming all of them to M Chinnaswamy Stadium\n",
    "iplmatches['venue'] = iplmatches['venue'].str.replace('M. Chinnaswamy Stadium',\n",
    "                                                    'M Chinnaswamy Stadium')\n",
    "# Since MA Chidambaram Stadium, Chepauk and M. A. Chidambaram Stadium are the same venues, \n",
    "# renaming all of them to MA Chidambaram Stadium, Chepauk\n",
    "iplmatches['venue'] = iplmatches['venue'].str.replace('M. A. Chidambaram Stadium',\n",
    "                                                    'MA Chidambaram Stadium, Chepauk')\n",
    "# Since Rajiv Gandhi International Stadium, Uppal and Rajiv Gandhi Intl. Cricket Stadium are the same venues, \n",
    "# renaming all of them to Rajiv Gandhi International Stadium, Uppal\n",
    "iplmatches['venue'] = iplmatches['venue'].str.replace('Rajiv Gandhi Intl. Cricket Stadium',\n",
    "                                                    'Rajiv Gandhi International Stadium, Uppal')\n",
    "# Since Feroz Shah Kotla and Feroz Shah Kotla Ground are the same venues, \n",
    "# renaming all of them to Feroz Shah Kotla\n",
    "iplmatches['venue'] = iplmatches['venue'].str.replace('Feroz Shah Kotla Ground',\n",
    "                                                    'Feroz Shah Kotla')\n",
    "# Since Dr. Y.S. Rajasekhara Reddy ACA-VDCA Cricket Stadium and ACA-VDCA Stadium are the same venues, \n",
    "# renaming all of them to Dr. Y.S. Rajasekhara Reddy ACA-VDCA Cricket Stadium\n",
    "iplmatches['venue'] = iplmatches['venue'].str.replace('ACA-VDCA Stadium',\n",
    "                                                    'Dr. Y.S. Rajasekhara Reddy ACA-VDCA Cricket Stadium')"
   ]
  },
  {
   "cell_type": "code",
   "execution_count": 42,
   "id": "a01ac885",
   "metadata": {
    "colab": {
     "background_save": true
    },
    "id": "3d88a93d",
    "scrolled": false
   },
   "outputs": [
    {
     "data": {
      "text/plain": [
       "Eden Gardens                                           71\n",
       "M Chinnaswamy Stadium                                  68\n",
       "Feroz Shah Kotla                                       66\n",
       "Wankhede Stadium                                       64\n",
       "Rajiv Gandhi International Stadium, Uppal              57\n",
       "MA Chidambaram Stadium, Chepauk                        53\n",
       "Punjab Cricket Association Stadium, Mohali             50\n",
       "Sawai Mansingh Stadium                                 43\n",
       "Kingsmead                                              15\n",
       "SuperSport Park                                        12\n",
       "Sardar Patel Stadium, Motera                           12\n",
       "Brabourne Stadium                                      11\n",
       "Dr DY Patil Sports Academy                             10\n",
       "Dr. Y.S. Rajasekhara Reddy ACA-VDCA Cricket Stadium    10\n",
       "Maharashtra Cricket Association Stadium                10\n",
       "Himachal Pradesh Cricket Association Stadium            9\n",
       "New Wanderers Stadium                                   8\n",
       "St George's Park                                        7\n",
       "Newlands                                                7\n",
       "Sheikh Zayed Stadium                                    7\n",
       "Dubai International Cricket Stadium                     7\n",
       "JSCA International Stadium Complex                      6\n",
       "Sharjah Cricket Stadium                                 6\n",
       "Holkar Cricket Stadium                                  6\n",
       "Barabati Stadium                                        6\n",
       "Shaheed Veer Narayan Singh International Stadium        5\n",
       "Vidarbha Cricket Association Stadium, Jamtha            3\n",
       "De Beers Diamond Oval                                   3\n",
       "Buffalo Park                                            3\n",
       "OUTsurance Oval                                         2\n",
       "Subrata Roy Sahara Stadium                              1\n",
       "Name: venue, dtype: int64"
      ]
     },
     "execution_count": 42,
     "metadata": {},
     "output_type": "execute_result"
    }
   ],
   "source": [
    "# checking the unique values and their corresponding frequency in 'venue' column to verify\n",
    "iplmatches[\"venue\"].value_counts()"
   ]
  },
  {
   "cell_type": "code",
   "execution_count": 43,
   "id": "2ae69276",
   "metadata": {
    "colab": {
     "background_save": true
    },
    "id": "a9bd5490"
   },
   "outputs": [],
   "source": [
    "# Now there are no issues with the 'venue' column"
   ]
  },
  {
   "cell_type": "code",
   "execution_count": 44,
   "id": "41b7afaf",
   "metadata": {
    "colab": {
     "background_save": true
    },
    "id": "9f8e702a"
   },
   "outputs": [],
   "source": [
    "# Now the dataset is cleaned and ready for EDA/Visualizations"
   ]
  },
  {
   "cell_type": "code",
   "execution_count": 45,
   "id": "a28d843a",
   "metadata": {
    "colab": {
     "background_save": true
    },
    "id": "693b2c0d"
   },
   "outputs": [
    {
     "data": {
      "text/html": [
       "<div>\n",
       "<style scoped>\n",
       "    .dataframe tbody tr th:only-of-type {\n",
       "        vertical-align: middle;\n",
       "    }\n",
       "\n",
       "    .dataframe tbody tr th {\n",
       "        vertical-align: top;\n",
       "    }\n",
       "\n",
       "    .dataframe thead th {\n",
       "        text-align: right;\n",
       "    }\n",
       "</style>\n",
       "<table border=\"1\" class=\"dataframe\">\n",
       "  <thead>\n",
       "    <tr style=\"text-align: right;\">\n",
       "      <th></th>\n",
       "      <th>season</th>\n",
       "      <th>city</th>\n",
       "      <th>team1</th>\n",
       "      <th>team2</th>\n",
       "      <th>toss_winner</th>\n",
       "      <th>toss_decision</th>\n",
       "      <th>result</th>\n",
       "      <th>dl_applied</th>\n",
       "      <th>winner</th>\n",
       "      <th>win_by_runs</th>\n",
       "      <th>win_by_wickets</th>\n",
       "      <th>venue</th>\n",
       "    </tr>\n",
       "  </thead>\n",
       "  <tbody>\n",
       "    <tr>\n",
       "      <th>116</th>\n",
       "      <td>2008</td>\n",
       "      <td>Mumbai</td>\n",
       "      <td>CSK</td>\n",
       "      <td>RR</td>\n",
       "      <td>RR</td>\n",
       "      <td>field</td>\n",
       "      <td>normal</td>\n",
       "      <td>0</td>\n",
       "      <td>RR</td>\n",
       "      <td>0</td>\n",
       "      <td>3</td>\n",
       "      <td>Dr DY Patil Sports Academy</td>\n",
       "    </tr>\n",
       "    <tr>\n",
       "      <th>82</th>\n",
       "      <td>2008</td>\n",
       "      <td>Jaipur</td>\n",
       "      <td>CSK</td>\n",
       "      <td>RR</td>\n",
       "      <td>CSK</td>\n",
       "      <td>bat</td>\n",
       "      <td>normal</td>\n",
       "      <td>0</td>\n",
       "      <td>RR</td>\n",
       "      <td>0</td>\n",
       "      <td>8</td>\n",
       "      <td>Sawai Mansingh Stadium</td>\n",
       "    </tr>\n",
       "    <tr>\n",
       "      <th>81</th>\n",
       "      <td>2008</td>\n",
       "      <td>Mumbai</td>\n",
       "      <td>MI</td>\n",
       "      <td>DC</td>\n",
       "      <td>DC</td>\n",
       "      <td>field</td>\n",
       "      <td>normal</td>\n",
       "      <td>0</td>\n",
       "      <td>MI</td>\n",
       "      <td>29</td>\n",
       "      <td>0</td>\n",
       "      <td>Dr DY Patil Sports Academy</td>\n",
       "    </tr>\n",
       "    <tr>\n",
       "      <th>80</th>\n",
       "      <td>2008</td>\n",
       "      <td>Chandigarh</td>\n",
       "      <td>KXIP</td>\n",
       "      <td>KKR</td>\n",
       "      <td>KXIP</td>\n",
       "      <td>bat</td>\n",
       "      <td>normal</td>\n",
       "      <td>0</td>\n",
       "      <td>KXIP</td>\n",
       "      <td>9</td>\n",
       "      <td>0</td>\n",
       "      <td>Punjab Cricket Association Stadium, Mohali</td>\n",
       "    </tr>\n",
       "    <tr>\n",
       "      <th>79</th>\n",
       "      <td>2008</td>\n",
       "      <td>Hyderabad</td>\n",
       "      <td>SRH</td>\n",
       "      <td>RCB</td>\n",
       "      <td>SRH</td>\n",
       "      <td>bat</td>\n",
       "      <td>normal</td>\n",
       "      <td>0</td>\n",
       "      <td>RCB</td>\n",
       "      <td>0</td>\n",
       "      <td>5</td>\n",
       "      <td>Rajiv Gandhi International Stadium, Uppal</td>\n",
       "    </tr>\n",
       "  </tbody>\n",
       "</table>\n",
       "</div>"
      ],
      "text/plain": [
       "     season        city team1 team2 toss_winner toss_decision  result  \\\n",
       "116    2008      Mumbai   CSK    RR          RR         field  normal   \n",
       "82     2008      Jaipur   CSK    RR         CSK           bat  normal   \n",
       "81     2008      Mumbai    MI    DC          DC         field  normal   \n",
       "80     2008  Chandigarh  KXIP   KKR        KXIP           bat  normal   \n",
       "79     2008   Hyderabad   SRH   RCB         SRH           bat  normal   \n",
       "\n",
       "     dl_applied winner  win_by_runs  win_by_wickets  \\\n",
       "116           0     RR            0               3   \n",
       "82            0     RR            0               8   \n",
       "81            0     MI           29               0   \n",
       "80            0   KXIP            9               0   \n",
       "79            0    RCB            0               5   \n",
       "\n",
       "                                          venue  \n",
       "116                  Dr DY Patil Sports Academy  \n",
       "82                       Sawai Mansingh Stadium  \n",
       "81                   Dr DY Patil Sports Academy  \n",
       "80   Punjab Cricket Association Stadium, Mohali  \n",
       "79    Rajiv Gandhi International Stadium, Uppal  "
      ]
     },
     "execution_count": 45,
     "metadata": {},
     "output_type": "execute_result"
    }
   ],
   "source": [
    "# Viewing the first five rows of the cleaned dataset\n",
    "iplmatches.head()"
   ]
  },
  {
   "cell_type": "markdown",
   "id": "76a6ab13",
   "metadata": {
    "id": "1c221aef"
   },
   "source": [
    "### Exploratory Data Analysis ###"
   ]
  },
  {
   "cell_type": "markdown",
   "id": "8db1d385",
   "metadata": {
    "id": "1efce989"
   },
   "source": [
    "#### 1.) Analyzing how venue affects each team's performance ####"
   ]
  },
  {
   "cell_type": "code",
   "execution_count": 46,
   "id": "e091f9af",
   "metadata": {
    "colab": {
     "background_save": true
    },
    "id": "224968fa"
   },
   "outputs": [],
   "source": [
    "# abbreviating few values in the 'venue' column for asthetics purposes of charts\n",
    "iplmatches['venue'] = iplmatches['venue'].str.replace('Punjab Cricket Association Stadium, Mohali','PCA, Mohali')\n",
    "iplmatches['venue'] = iplmatches['venue'].str.replace('Punjab Cricket Association IS Bindra Stadium, Mohali','PCA Bindra')\n",
    "iplmatches['venue'] = iplmatches['venue'].str.replace('MA Chidambaram Stadium, Chepauk','MCA Cheapuk')\n",
    "iplmatches['venue'] = iplmatches['venue'].str.replace('M. A. Chidambaram Stadium','MACS')\n",
    "iplmatches['venue'] = iplmatches['venue'].str.replace('Rajiv Gandhi International Stadium, Uppal','Uppal Stadium')\n",
    "iplmatches['venue'] = iplmatches['venue'].str.replace('Rajiv Gandhi Intl. Cricket Stadium','Rajiv Gandhi Stadium')\n",
    "iplmatches['venue'] = iplmatches['venue'].str.replace('Feroz Shah Kotla','FSK stadium')\n",
    "iplmatches['venue'] = iplmatches['venue'].str.replace('Sawai Mansingh Stadium',' SM stadium')"
   ]
  },
  {
   "cell_type": "code",
   "execution_count": 47,
   "id": "0b9d01e0",
   "metadata": {
    "colab": {
     "background_save": true
    },
    "id": "cc505d1f"
   },
   "outputs": [
    {
     "data": {
      "image/png": "[encoded data removed]",
      "text/plain": [
       "<Figure size 432x432 with 1 Axes>"
      ]
     },
     "metadata": {
      "needs_background": "light"
     },
     "output_type": "display_data"
    }
   ],
   "source": [
    "# Here we create a barplot to visualise a team's success at a particular venue.\n",
    "#In this case we shall be visualizing it using barplots for top 3 venues with maximum wins for a particular team\n",
    "#CSK\n",
    "#Create a dataframe subset that will have rows with a particular team as the winner(CSK in this case)\n",
    "csk_df=iplmatches[iplmatches.winner=='CSK']\n",
    "#value_counts method helps us get a count of unique values for every combination  in the column, this gets us the number of wins per venue\n",
    "csk_counts=pd.DataFrame(csk_df['venue'].value_counts()).reset_index()\n",
    "#Here we are choosing the columns of interest that we will be using to plot in the barplots\n",
    "csk_counts.columns=['Venue','Count']\n",
    "#Settting the plot size\n",
    "plt.figure(figsize = (6,6))\n",
    "#Creating a barplot by defining x and y axis followed by defining plot axes and titles and then displaying the plot\n",
    "#We repeat procedure this for all the other teams as well\n",
    "sns.barplot(\"Venue\", \"Count\", data=csk_counts.head(3),palette=\"Blues\")\n",
    "plt.title('CSK Wins by Venue')\n",
    "plt.show()"
   ]
  },
  {
   "cell_type": "code",
   "execution_count": 48,
   "id": "cd53d6e7",
   "metadata": {
    "colab": {
     "background_save": true
    },
    "id": "de0b153d"
   },
   "outputs": [
    {
     "data": {
      "image/png": "[encoded data removed]",
      "text/plain": [
       "<Figure size 432x432 with 1 Axes>"
      ]
     },
     "metadata": {
      "needs_background": "light"
     },
     "output_type": "display_data"
    }
   ],
   "source": [
    "# For MI\n",
    "mi_df=iplmatches[iplmatches.winner=='MI']\n",
    "mi_counts=pd.DataFrame(mi_df['venue'].value_counts()).reset_index()\n",
    "mi_counts.columns=['Venue','Count']\n",
    "plt.figure(figsize = (6,6))\n",
    "sns.barplot(\"Venue\", \"Count\", data=mi_counts.head(3),palette=\"Blues\")\n",
    "plt.title('MI Wins by Venue')\n",
    "plt.show()"
   ]
  },
  {
   "cell_type": "code",
   "execution_count": 49,
   "id": "5916ad09",
   "metadata": {
    "colab": {
     "background_save": true
    },
    "id": "7e18733e"
   },
   "outputs": [
    {
     "data": {
      "image/png": "[encoded data removed]",
      "text/plain": [
       "<Figure size 432x432 with 1 Axes>"
      ]
     },
     "metadata": {
      "needs_background": "light"
     },
     "output_type": "display_data"
    }
   ],
   "source": [
    "#For KKR\n",
    "kkr_df=iplmatches[iplmatches.winner=='KKR']\n",
    "kkr_counts=pd.DataFrame(kkr_df['venue'].value_counts()).reset_index()\n",
    "kkr_counts.columns=['Venue','Count']\n",
    "plt.figure(figsize = (6,6))\n",
    "sns.barplot(\"Venue\", \"Count\", data=kkr_counts.head(3),palette=\"Blues\")\n",
    "plt.title('KKR Wins by Venue')\n",
    "plt.show()"
   ]
  },
  {
   "cell_type": "code",
   "execution_count": 50,
   "id": "190e0297",
   "metadata": {
    "colab": {
     "background_save": true
    },
    "id": "5471edfc"
   },
   "outputs": [
    {
     "data": {
      "image/png": "[encoded data removed]",
      "text/plain": [
       "<Figure size 432x432 with 1 Axes>"
      ]
     },
     "metadata": {
      "needs_background": "light"
     },
     "output_type": "display_data"
    }
   ],
   "source": [
    "# For SRH\n",
    "srh_df=iplmatches[iplmatches.winner=='SRH']\n",
    "srh_counts=pd.DataFrame(srh_df['venue'].value_counts()).reset_index()\n",
    "srh_counts.columns=['Venue','Count']\n",
    "plt.figure(figsize = (6,6))\n",
    "sns.barplot(\"Venue\", \"Count\", data=srh_counts.head(3),palette=\"Blues\")\n",
    "plt.title('SRH Wins by Venue')\n",
    "plt.show()"
   ]
  },
  {
   "cell_type": "code",
   "execution_count": 51,
   "id": "398087e4",
   "metadata": {
    "colab": {
     "background_save": true
    },
    "id": "108e676e"
   },
   "outputs": [
    {
     "data": {
      "image/png": "[encoded data removed]",
      "text/plain": [
       "<Figure size 432x432 with 1 Axes>"
      ]
     },
     "metadata": {
      "needs_background": "light"
     },
     "output_type": "display_data"
    }
   ],
   "source": [
    "# For KXIP\n",
    "kxip_df=iplmatches[iplmatches.winner=='KXIP']\n",
    "kxip_counts=pd.DataFrame(kxip_df['venue'].value_counts()).reset_index()\n",
    "kxip_counts.columns=['Venue','Count']\n",
    "plt.figure(figsize = (6,6))\n",
    "sns.barplot(\"Venue\", \"Count\", data=kxip_counts.head(3),palette=\"Blues\")\n",
    "plt.title('KXIP Wins by Venue')\n",
    "plt.show()"
   ]
  },
  {
   "cell_type": "code",
   "execution_count": 52,
   "id": "feee43f7",
   "metadata": {
    "colab": {
     "background_save": true
    },
    "id": "00394794"
   },
   "outputs": [
    {
     "data": {
      "image/png": "[encoded data removed]",
      "text/plain": [
       "<Figure size 432x432 with 1 Axes>"
      ]
     },
     "metadata": {
      "needs_background": "light"
     },
     "output_type": "display_data"
    }
   ],
   "source": [
    "# For RCB\n",
    "rcb_df=iplmatches[iplmatches.winner=='RCB']\n",
    "rcb_counts=pd.DataFrame(rcb_df['venue'].value_counts()).reset_index()\n",
    "rcb_counts.columns=['Venue','Count']\n",
    "plt.figure(figsize = (6,6))\n",
    "sns.barplot(\"Venue\", \"Count\", data=rcb_counts.head(3),palette=\"Blues\")\n",
    "plt.title('RCB Wins by Venue')\n",
    "plt.show()"
   ]
  },
  {
   "cell_type": "code",
   "execution_count": 53,
   "id": "f5d6bcca",
   "metadata": {
    "colab": {
     "background_save": true
    },
    "id": "d69844c6"
   },
   "outputs": [
    {
     "data": {
      "image/png": "[encoded data removed]",
      "text/plain": [
       "<Figure size 432x360 with 1 Axes>"
      ]
     },
     "metadata": {
      "needs_background": "light"
     },
     "output_type": "display_data"
    }
   ],
   "source": [
    "# For RR\n",
    "rr_df=iplmatches[iplmatches.winner=='RR']\n",
    "rr_counts=pd.DataFrame(rr_df['venue'].value_counts()).reset_index()\n",
    "rr_counts.columns=['Venue','Count']\n",
    "plt.figure(figsize = (6,5))\n",
    "sns.barplot(\"Venue\", \"Count\", data=rr_counts.head(3),palette=\"Blues\")\n",
    "plt.title('RR Wins by Venue')\n",
    "plt.show()"
   ]
  },
  {
   "cell_type": "code",
   "execution_count": 54,
   "id": "bb4b6a5f",
   "metadata": {
    "colab": {
     "background_save": true
    },
    "id": "691b4e43"
   },
   "outputs": [
    {
     "data": {
      "image/png": "[encoded data removed]",
      "text/plain": [
       "<Figure size 432x432 with 1 Axes>"
      ]
     },
     "metadata": {
      "needs_background": "light"
     },
     "output_type": "display_data"
    }
   ],
   "source": [
    "# For DC\n",
    "dc_df=iplmatches[iplmatches.winner=='DC']\n",
    "dc_counts=pd.DataFrame(dc_df['venue'].value_counts()).reset_index()\n",
    "dc_counts.columns=['Venue','Count']\n",
    "plt.figure(figsize = (6,6))\n",
    "sns.barplot(\"Venue\", \"Count\", data=dc_counts.head(3),palette=\"Blues\")\n",
    "plt.title('DC Wins by Venue')\n",
    "plt.show()"
   ]
  },
  {
   "cell_type": "markdown",
   "id": "1e1dfba4",
   "metadata": {
    "id": "c97b2402"
   },
   "source": [
    "For all the eight teams we can see that the venue at which they play has an major impact on their performance. Every team has one favorite venue, where they win mojaority of the matches. Given this trend, we feel that 'venue' can act as a good predictor \n",
    "for our classification model."
   ]
  },
  {
   "cell_type": "markdown",
   "id": "199da865",
   "metadata": {
    "id": "9286e369"
   },
   "source": [
    "#### 2.) Analyzing if winning the toss increases the chance of each team's chances to win the match ####"
   ]
  },
  {
   "cell_type": "code",
   "execution_count": 55,
   "id": "8e40568f",
   "metadata": {
    "colab": {
     "background_save": true
    },
    "id": "757aafd8"
   },
   "outputs": [],
   "source": [
    "# Creating subsets for visualization purposes\n",
    "csk_df=iplmatches[iplmatches.toss_winner=='CSK']\n",
    "mi_df=iplmatches[iplmatches.toss_winner=='MI']\n",
    "kkr_df=iplmatches[iplmatches.toss_winner=='KKR']\n",
    "srh_df=iplmatches[iplmatches.toss_winner=='SRH']\n",
    "kxip_df=iplmatches[iplmatches.toss_winner=='KXIP']\n",
    "rcb_df=iplmatches[iplmatches.toss_winner=='RCB']\n",
    "rr_df=iplmatches[iplmatches.toss_winner=='RR']\n",
    "dc_df=iplmatches[iplmatches.toss_winner=='DC']"
   ]
  },
  {
   "cell_type": "code",
   "execution_count": 56,
   "id": "7eda3105",
   "metadata": {
    "colab": {
     "background_save": true
    },
    "id": "abb52b0e"
   },
   "outputs": [
    {
     "data": {
      "image/png": "[encoded data removed]",
      "text/plain": [
       "<Figure size 432x288 with 1 Axes>"
      ]
     },
     "metadata": {},
     "output_type": "display_data"
    }
   ],
   "source": [
    "# For CSK\n",
    "colors = ['#EDE275','#F4A460']\n",
    "#We get the probabilty of a particular team winning the match after winning the toss(CSK being the team in this case)\n",
    "probablity_of_win=csk_df[\"winner\"]==csk_df[\"toss_winner\"]\n",
    "#Through value_counts we get a count of the number of rows where a particular team won both the toss as well as the match\n",
    "probablity_of_win.value_counts()\n",
    "#Now we calculate the percentage of of total toss wins upon the total match wins to see visualize how likely a team winning a toss also wins the match\n",
    "#We reepeat these visualisations for other teams as well.\n",
    "plt.pie(probablity_of_win.value_counts(),labels=probablity_of_win.value_counts().index,autopct=\"%1.2f%%\",colors=colors)\n",
    "plt.title(\"Does Winning the toss means Winning the match FOR CSK?\",fontweight=\"bold\")\n",
    "plt.show()"
   ]
  },
  {
   "cell_type": "code",
   "execution_count": 57,
   "id": "094b3e70",
   "metadata": {
    "colab": {
     "background_save": true
    },
    "id": "76da2c21"
   },
   "outputs": [
    {
     "data": {
      "image/png": "[encoded data removed]",
      "text/plain": [
       "<Figure size 432x288 with 1 Axes>"
      ]
     },
     "metadata": {},
     "output_type": "display_data"
    }
   ],
   "source": [
    "# For MI\n",
    "colors = ['#2554C7','#728FCE']\n",
    "probablity_of_win=mi_df[\"winner\"]==mi_df[\"toss_winner\"]\n",
    "probablity_of_win.value_counts()\n",
    "plt.pie(probablity_of_win.value_counts(),labels=probablity_of_win.value_counts().index,autopct=\"%1.2f%%\",colors=colors)\n",
    "plt.title(\"Does Winning the toss means Winning the match FOR MI?\",fontweight=\"bold\")\n",
    "plt.show()"
   ]
  },
  {
   "cell_type": "code",
   "execution_count": 58,
   "id": "c5fa8f2a",
   "metadata": {
    "colab": {
     "background_save": true
    },
    "id": "43af36dd"
   },
   "outputs": [
    {
     "data": {
      "image/png": "[encoded data removed]",
      "text/plain": [
       "<Figure size 432x288 with 1 Axes>"
      ]
     },
     "metadata": {},
     "output_type": "display_data"
    }
   ],
   "source": [
    "# For KKR\n",
    "colors = ['#E799A3','#872657']\n",
    "probablity_of_win=kkr_df[\"winner\"]==kkr_df[\"toss_winner\"]\n",
    "probablity_of_win.value_counts()\n",
    "plt.pie(probablity_of_win.value_counts(),labels=probablity_of_win.value_counts().index,autopct=\"%1.2f%%\",colors=colors)\n",
    "plt.title(\"Does Winning the toss means Winning the match FOR KKR?\",fontweight=\"bold\")\n",
    "plt.show()"
   ]
  },
  {
   "cell_type": "code",
   "execution_count": 59,
   "id": "e1e9c395",
   "metadata": {
    "colab": {
     "background_save": true
    },
    "id": "8522c363"
   },
   "outputs": [
    {
     "data": {
      "image/png": "[encoded data removed]",
      "text/plain": [
       "<Figure size 432x288 with 1 Axes>"
      ]
     },
     "metadata": {},
     "output_type": "display_data"
    }
   ],
   "source": [
    "# For SRH\n",
    "colors = ['#FFA500','#E78A61']\n",
    "probablity_of_win=srh_df[\"winner\"]==srh_df[\"toss_winner\"]\n",
    "probablity_of_win.value_counts()\n",
    "plt.pie(probablity_of_win.value_counts(),labels=probablity_of_win.value_counts().index,autopct=\"%1.2f%%\",colors=colors)\n",
    "plt.title(\"Does Winning the toss means Winning the match FOR SRH?\",fontweight=\"bold\")\n",
    "plt.show()"
   ]
  },
  {
   "cell_type": "code",
   "execution_count": 60,
   "id": "5a0e1cb4",
   "metadata": {
    "colab": {
     "background_save": true
    },
    "id": "0d97f6e0"
   },
   "outputs": [
    {
     "data": {
      "image/png": "[encoded data removed]",
      "text/plain": [
       "<Figure size 432x288 with 1 Axes>"
      ]
     },
     "metadata": {},
     "output_type": "display_data"
    }
   ],
   "source": [
    "# For KXIP\n",
    "colors = ['#DC143C','#C0C0C0']\n",
    "probablity_of_win=kxip_df[\"winner\"]==kxip_df[\"toss_winner\"]\n",
    "probablity_of_win.value_counts()\n",
    "plt.pie(probablity_of_win.value_counts(),labels=probablity_of_win.value_counts().index,autopct=\"%1.2f%%\",colors=colors)\n",
    "plt.title(\"Does Winning the toss means Winning the match FOR KXIP?\",fontweight=\"bold\")\n",
    "plt.show()"
   ]
  },
  {
   "cell_type": "code",
   "execution_count": 61,
   "id": "0e4ef41c",
   "metadata": {
    "colab": {
     "background_save": true
    },
    "id": "79587e82"
   },
   "outputs": [
    {
     "data": {
      "image/png": "[encoded data removed]",
      "text/plain": [
       "<Figure size 432x288 with 1 Axes>"
      ]
     },
     "metadata": {},
     "output_type": "display_data"
    }
   ],
   "source": [
    "# For RCB\n",
    "colors = ['#EB5406','#C68E17']\n",
    "probablity_of_win=rcb_df[\"winner\"]==rcb_df[\"toss_winner\"]\n",
    "probablity_of_win.value_counts()\n",
    "plt.pie(probablity_of_win.value_counts(),labels=probablity_of_win.value_counts().index,autopct=\"%1.2f%%\",colors=colors)\n",
    "plt.title(\"Does Winning the toss means Winning the match FOR RCB?\",fontweight=\"bold\")\n",
    "plt.show()"
   ]
  },
  {
   "cell_type": "code",
   "execution_count": 62,
   "id": "6f7edd6f",
   "metadata": {
    "colab": {
     "background_save": true
    },
    "id": "9c3d4dca"
   },
   "outputs": [
    {
     "data": {
      "image/png": "[encoded data removed]",
      "text/plain": [
       "<Figure size 432x288 with 1 Axes>"
      ]
     },
     "metadata": {},
     "output_type": "display_data"
    }
   ],
   "source": [
    "# For RR\n",
    "colors = ['#56A5EC','#00FFFF']\n",
    "probablity_of_win=rr_df[\"winner\"]==rr_df[\"toss_winner\"]\n",
    "probablity_of_win.value_counts()\n",
    "plt.pie(probablity_of_win.value_counts(),labels=probablity_of_win.value_counts().index,autopct=\"%1.2f%%\",colors=colors)\n",
    "plt.title(\"Does Winning the toss means Winning the match FOR RR?\",fontweight=\"bold\")\n",
    "plt.show()"
   ]
  },
  {
   "cell_type": "code",
   "execution_count": 63,
   "id": "725ea00a",
   "metadata": {
    "colab": {
     "background_save": true
    },
    "id": "efb17dbf"
   },
   "outputs": [
    {
     "data": {
      "image/png": "[encoded data removed]",
      "text/plain": [
       "<Figure size 432x288 with 1 Axes>"
      ]
     },
     "metadata": {},
     "output_type": "display_data"
    }
   ],
   "source": [
    "# For DC\n",
    "colors = ['#FF0000','#1E90FF']\n",
    "probablity_of_win=dc_df[\"winner\"]==dc_df[\"toss_winner\"]\n",
    "probablity_of_win.value_counts()\n",
    "plt.pie(probablity_of_win.value_counts(),labels=probablity_of_win.value_counts().index,autopct=\"%1.2f%%\",colors=colors)\n",
    "plt.title(\"Does Winning the toss means Winning the match FOR DC?\",fontweight=\"bold\")\n",
    "plt.show()"
   ]
  },
  {
   "cell_type": "markdown",
   "id": "540a8d16",
   "metadata": {
    "id": "26b4c05c"
   },
   "source": [
    "For all the teams except DC, if a team wins the toss, their chances of winning the match is higher when compared to not winning the toss. Given this trend, we feel that the 'toss_winner' can act as a good predictor for our classification model."
   ]
  },
  {
   "cell_type": "markdown",
   "id": "1915e07c",
   "metadata": {
    "id": "d0005227"
   },
   "source": [
    "#### 3.) Analyzing each team's preference to bat or field after winning the toss ####"
   ]
  },
  {
   "cell_type": "code",
   "execution_count": 64,
   "id": "ed91341d",
   "metadata": {
    "colab": {
     "background_save": true
    },
    "id": "c63ca0ba"
   },
   "outputs": [
    {
     "data": {
      "image/png": "[encoded data removed]",
      "text/plain": [
       "<Figure size 720x360 with 1 Axes>"
      ]
     },
     "metadata": {
      "needs_background": "light"
     },
     "output_type": "display_data"
    }
   ],
   "source": [
    "plt.subplots(figsize=(10,5))\n",
    "sns.color_palette()\n",
    "sns.countplot(iplmatches[\"toss_winner\"], hue=iplmatches[\"toss_decision\"], palette = \"crest\")\n",
    "plt.xticks(rotation=45)\n",
    "plt.xlabel(\"Toss Winner\")\n",
    "plt.ylabel(\"Number of Wins\")\n",
    "plt.show()"
   ]
  },
  {
   "cell_type": "markdown",
   "id": "0189cb87",
   "metadata": {
    "id": "2ead406f"
   },
   "source": [
    "For all the teams, we clearly see different trends. Few teams prefer fielding first whereas few teams prefer batting first. Hence, we feel that the 'toss_decision' can act as a good predictor for our classification model."
   ]
  },
  {
   "cell_type": "markdown",
   "id": "c26400ba",
   "metadata": {
    "id": "5ae51107"
   },
   "source": [
    "### Modeling Process ###"
   ]
  },
  {
   "cell_type": "code",
   "execution_count": 65,
   "id": "59dd890a",
   "metadata": {
    "colab": {
     "background_save": true
    },
    "id": "e5dbcc56"
   },
   "outputs": [],
   "source": [
    "# dropping columns for which we won't have information at the start of the match so hence couldn't be used as a predictor\n",
    "iplmatches = iplmatches.drop(['result', 'dl_applied', 'win_by_runs', 'win_by_wickets'], axis=1)"
   ]
  },
  {
   "cell_type": "markdown",
   "id": "b75b3ce8",
   "metadata": {
    "id": "e215b14e"
   },
   "source": [
    "#### The predictors that we use: ####\n",
    "<br>\n",
    " - season\n",
    "<br>\n",
    " - city\n",
    "<br>\n",
    " - team1\n",
    "<br>\n",
    " - team2\n",
    "<br>\n",
    " - toss_winner\n",
    "<br>\n",
    " - toss_decision\n",
    "<br>\n",
    " - venue"
   ]
  },
  {
   "cell_type": "markdown",
   "id": "a0927416",
   "metadata": {
    "id": "ce1b9d7e"
   },
   "source": [
    "#### The output that we predict is: ####\n",
    "<br> \n",
    "winner - This has the following categories: MI(1), CSK(2), KKR(3), SRH(4), KXIP(5), RCB(6), RR(7), DC(8)"
   ]
  },
  {
   "cell_type": "code",
   "execution_count": 66,
   "id": "ab23b033",
   "metadata": {
    "colab": {
     "background_save": true
    },
    "id": "08508793"
   },
   "outputs": [
    {
     "data": {
      "text/plain": [
       "season            int64\n",
       "city             object\n",
       "team1            object\n",
       "team2            object\n",
       "toss_winner      object\n",
       "toss_decision    object\n",
       "winner           object\n",
       "venue            object\n",
       "dtype: object"
      ]
     },
     "execution_count": 66,
     "metadata": {},
     "output_type": "execute_result"
    }
   ],
   "source": [
    "# checking the data types of all the columns\n",
    "iplmatches.dtypes"
   ]
  },
  {
   "cell_type": "code",
   "execution_count": 67,
   "id": "0451f53f",
   "metadata": {
    "colab": {
     "background_save": true
    },
    "id": "3433f277"
   },
   "outputs": [
    {
     "data": {
      "text/html": [
       "<div>\n",
       "<style scoped>\n",
       "    .dataframe tbody tr th:only-of-type {\n",
       "        vertical-align: middle;\n",
       "    }\n",
       "\n",
       "    .dataframe tbody tr th {\n",
       "        vertical-align: top;\n",
       "    }\n",
       "\n",
       "    .dataframe thead th {\n",
       "        text-align: right;\n",
       "    }\n",
       "</style>\n",
       "<table border=\"1\" class=\"dataframe\">\n",
       "  <thead>\n",
       "    <tr style=\"text-align: right;\">\n",
       "      <th></th>\n",
       "      <th>season</th>\n",
       "      <th>city</th>\n",
       "      <th>team1</th>\n",
       "      <th>team2</th>\n",
       "      <th>toss_winner</th>\n",
       "      <th>toss_decision</th>\n",
       "      <th>winner</th>\n",
       "      <th>venue</th>\n",
       "    </tr>\n",
       "  </thead>\n",
       "  <tbody>\n",
       "    <tr>\n",
       "      <th>116</th>\n",
       "      <td>2008</td>\n",
       "      <td>Mumbai</td>\n",
       "      <td>CSK</td>\n",
       "      <td>RR</td>\n",
       "      <td>RR</td>\n",
       "      <td>field</td>\n",
       "      <td>7</td>\n",
       "      <td>Dr DY Patil Sports Academy</td>\n",
       "    </tr>\n",
       "    <tr>\n",
       "      <th>82</th>\n",
       "      <td>2008</td>\n",
       "      <td>Jaipur</td>\n",
       "      <td>CSK</td>\n",
       "      <td>RR</td>\n",
       "      <td>CSK</td>\n",
       "      <td>bat</td>\n",
       "      <td>7</td>\n",
       "      <td>SM stadium</td>\n",
       "    </tr>\n",
       "    <tr>\n",
       "      <th>81</th>\n",
       "      <td>2008</td>\n",
       "      <td>Mumbai</td>\n",
       "      <td>MI</td>\n",
       "      <td>DC</td>\n",
       "      <td>DC</td>\n",
       "      <td>field</td>\n",
       "      <td>1</td>\n",
       "      <td>Dr DY Patil Sports Academy</td>\n",
       "    </tr>\n",
       "    <tr>\n",
       "      <th>80</th>\n",
       "      <td>2008</td>\n",
       "      <td>Chandigarh</td>\n",
       "      <td>KXIP</td>\n",
       "      <td>KKR</td>\n",
       "      <td>KXIP</td>\n",
       "      <td>bat</td>\n",
       "      <td>5</td>\n",
       "      <td>PCA, Mohali</td>\n",
       "    </tr>\n",
       "    <tr>\n",
       "      <th>79</th>\n",
       "      <td>2008</td>\n",
       "      <td>Hyderabad</td>\n",
       "      <td>SRH</td>\n",
       "      <td>RCB</td>\n",
       "      <td>SRH</td>\n",
       "      <td>bat</td>\n",
       "      <td>6</td>\n",
       "      <td>Uppal Stadium</td>\n",
       "    </tr>\n",
       "  </tbody>\n",
       "</table>\n",
       "</div>"
      ],
      "text/plain": [
       "     season        city team1 team2 toss_winner toss_decision  winner  \\\n",
       "116    2008      Mumbai   CSK    RR          RR         field       7   \n",
       "82     2008      Jaipur   CSK    RR         CSK           bat       7   \n",
       "81     2008      Mumbai    MI    DC          DC         field       1   \n",
       "80     2008  Chandigarh  KXIP   KKR        KXIP           bat       5   \n",
       "79     2008   Hyderabad   SRH   RCB         SRH           bat       6   \n",
       "\n",
       "                          venue  \n",
       "116  Dr DY Patil Sports Academy  \n",
       "82                   SM stadium  \n",
       "81   Dr DY Patil Sports Academy  \n",
       "80                  PCA, Mohali  \n",
       "79                Uppal Stadium  "
      ]
     },
     "execution_count": 67,
     "metadata": {},
     "output_type": "execute_result"
    }
   ],
   "source": [
    "# encoding all the 8 teams in the 'winner' column to numbers 1-8\n",
    "encode = {'winner': {'MI':1,'CSK':2,'KKR':3,'SRH':4,'KXIP':5,'RCB':6,'RR':7,'DC':8}}\n",
    "iplmatches.replace(encode, inplace=True)\n",
    "iplmatches.head()"
   ]
  },
  {
   "cell_type": "code",
   "execution_count": 68,
   "id": "af4cc5ee",
   "metadata": {
    "colab": {
     "background_save": true
    },
    "id": "649c5f9e"
   },
   "outputs": [
    {
     "data": {
      "text/html": [
       "<div>\n",
       "<style scoped>\n",
       "    .dataframe tbody tr th:only-of-type {\n",
       "        vertical-align: middle;\n",
       "    }\n",
       "\n",
       "    .dataframe tbody tr th {\n",
       "        vertical-align: top;\n",
       "    }\n",
       "\n",
       "    .dataframe thead th {\n",
       "        text-align: right;\n",
       "    }\n",
       "</style>\n",
       "<table border=\"1\" class=\"dataframe\">\n",
       "  <thead>\n",
       "    <tr style=\"text-align: right;\">\n",
       "      <th></th>\n",
       "      <th>season</th>\n",
       "      <th>city</th>\n",
       "      <th>team1</th>\n",
       "      <th>team2</th>\n",
       "      <th>toss_winner</th>\n",
       "      <th>toss_decision</th>\n",
       "      <th>winner</th>\n",
       "      <th>venue</th>\n",
       "    </tr>\n",
       "  </thead>\n",
       "  <tbody>\n",
       "    <tr>\n",
       "      <th>116</th>\n",
       "      <td>2008</td>\n",
       "      <td>Mumbai</td>\n",
       "      <td>CSK</td>\n",
       "      <td>RR</td>\n",
       "      <td>RR</td>\n",
       "      <td>1</td>\n",
       "      <td>7</td>\n",
       "      <td>Dr DY Patil Sports Academy</td>\n",
       "    </tr>\n",
       "    <tr>\n",
       "      <th>82</th>\n",
       "      <td>2008</td>\n",
       "      <td>Jaipur</td>\n",
       "      <td>CSK</td>\n",
       "      <td>RR</td>\n",
       "      <td>CSK</td>\n",
       "      <td>0</td>\n",
       "      <td>7</td>\n",
       "      <td>SM stadium</td>\n",
       "    </tr>\n",
       "    <tr>\n",
       "      <th>81</th>\n",
       "      <td>2008</td>\n",
       "      <td>Mumbai</td>\n",
       "      <td>MI</td>\n",
       "      <td>DC</td>\n",
       "      <td>DC</td>\n",
       "      <td>1</td>\n",
       "      <td>1</td>\n",
       "      <td>Dr DY Patil Sports Academy</td>\n",
       "    </tr>\n",
       "    <tr>\n",
       "      <th>80</th>\n",
       "      <td>2008</td>\n",
       "      <td>Chandigarh</td>\n",
       "      <td>KXIP</td>\n",
       "      <td>KKR</td>\n",
       "      <td>KXIP</td>\n",
       "      <td>0</td>\n",
       "      <td>5</td>\n",
       "      <td>PCA, Mohali</td>\n",
       "    </tr>\n",
       "    <tr>\n",
       "      <th>79</th>\n",
       "      <td>2008</td>\n",
       "      <td>Hyderabad</td>\n",
       "      <td>SRH</td>\n",
       "      <td>RCB</td>\n",
       "      <td>SRH</td>\n",
       "      <td>0</td>\n",
       "      <td>6</td>\n",
       "      <td>Uppal Stadium</td>\n",
       "    </tr>\n",
       "  </tbody>\n",
       "</table>\n",
       "</div>"
      ],
      "text/plain": [
       "     season        city team1 team2 toss_winner  toss_decision  winner  \\\n",
       "116    2008      Mumbai   CSK    RR          RR              1       7   \n",
       "82     2008      Jaipur   CSK    RR         CSK              0       7   \n",
       "81     2008      Mumbai    MI    DC          DC              1       1   \n",
       "80     2008  Chandigarh  KXIP   KKR        KXIP              0       5   \n",
       "79     2008   Hyderabad   SRH   RCB         SRH              0       6   \n",
       "\n",
       "                          venue  \n",
       "116  Dr DY Patil Sports Academy  \n",
       "82                   SM stadium  \n",
       "81   Dr DY Patil Sports Academy  \n",
       "80                  PCA, Mohali  \n",
       "79                Uppal Stadium  "
      ]
     },
     "execution_count": 68,
     "metadata": {},
     "output_type": "execute_result"
    }
   ],
   "source": [
    "# label encoding the 'toss_decision' column\n",
    "cat_var = ['toss_decision']\n",
    "le = LabelEncoder()\n",
    "for i in cat_var:\n",
    "    iplmatches[i] = le.fit_transform(iplmatches[i])\n",
    "iplmatches.head()"
   ]
  },
  {
   "cell_type": "code",
   "execution_count": 69,
   "id": "795c1807",
   "metadata": {
    "colab": {
     "background_save": true
    },
    "id": "688eb4b9"
   },
   "outputs": [
    {
     "data": {
      "text/html": [
       "<div>\n",
       "<style scoped>\n",
       "    .dataframe tbody tr th:only-of-type {\n",
       "        vertical-align: middle;\n",
       "    }\n",
       "\n",
       "    .dataframe tbody tr th {\n",
       "        vertical-align: top;\n",
       "    }\n",
       "\n",
       "    .dataframe thead th {\n",
       "        text-align: right;\n",
       "    }\n",
       "</style>\n",
       "<table border=\"1\" class=\"dataframe\">\n",
       "  <thead>\n",
       "    <tr style=\"text-align: right;\">\n",
       "      <th></th>\n",
       "      <th>season</th>\n",
       "      <th>toss_decision</th>\n",
       "      <th>winner</th>\n",
       "      <th>city_Abu Dhabi</th>\n",
       "      <th>city_Ahmedabad</th>\n",
       "      <th>city_Bangalore</th>\n",
       "      <th>city_Bloemfontein</th>\n",
       "      <th>city_Cape Town</th>\n",
       "      <th>city_Centurion</th>\n",
       "      <th>city_Chandigarh</th>\n",
       "      <th>...</th>\n",
       "      <th>venue_Sardar Patel Stadium, Motera</th>\n",
       "      <th>venue_Shaheed Veer Narayan Singh International Stadium</th>\n",
       "      <th>venue_Sharjah Cricket Stadium</th>\n",
       "      <th>venue_Sheikh Zayed Stadium</th>\n",
       "      <th>venue_St George's Park</th>\n",
       "      <th>venue_Subrata Roy Sahara Stadium</th>\n",
       "      <th>venue_SuperSport Park</th>\n",
       "      <th>venue_Uppal Stadium</th>\n",
       "      <th>venue_Vidarbha Cricket Association Stadium, Jamtha</th>\n",
       "      <th>venue_Wankhede Stadium</th>\n",
       "    </tr>\n",
       "  </thead>\n",
       "  <tbody>\n",
       "    <tr>\n",
       "      <th>116</th>\n",
       "      <td>2008</td>\n",
       "      <td>1</td>\n",
       "      <td>7</td>\n",
       "      <td>0</td>\n",
       "      <td>0</td>\n",
       "      <td>0</td>\n",
       "      <td>0</td>\n",
       "      <td>0</td>\n",
       "      <td>0</td>\n",
       "      <td>0</td>\n",
       "      <td>...</td>\n",
       "      <td>0</td>\n",
       "      <td>0</td>\n",
       "      <td>0</td>\n",
       "      <td>0</td>\n",
       "      <td>0</td>\n",
       "      <td>0</td>\n",
       "      <td>0</td>\n",
       "      <td>0</td>\n",
       "      <td>0</td>\n",
       "      <td>0</td>\n",
       "    </tr>\n",
       "    <tr>\n",
       "      <th>82</th>\n",
       "      <td>2008</td>\n",
       "      <td>0</td>\n",
       "      <td>7</td>\n",
       "      <td>0</td>\n",
       "      <td>0</td>\n",
       "      <td>0</td>\n",
       "      <td>0</td>\n",
       "      <td>0</td>\n",
       "      <td>0</td>\n",
       "      <td>0</td>\n",
       "      <td>...</td>\n",
       "      <td>0</td>\n",
       "      <td>0</td>\n",
       "      <td>0</td>\n",
       "      <td>0</td>\n",
       "      <td>0</td>\n",
       "      <td>0</td>\n",
       "      <td>0</td>\n",
       "      <td>0</td>\n",
       "      <td>0</td>\n",
       "      <td>0</td>\n",
       "    </tr>\n",
       "    <tr>\n",
       "      <th>81</th>\n",
       "      <td>2008</td>\n",
       "      <td>1</td>\n",
       "      <td>1</td>\n",
       "      <td>0</td>\n",
       "      <td>0</td>\n",
       "      <td>0</td>\n",
       "      <td>0</td>\n",
       "      <td>0</td>\n",
       "      <td>0</td>\n",
       "      <td>0</td>\n",
       "      <td>...</td>\n",
       "      <td>0</td>\n",
       "      <td>0</td>\n",
       "      <td>0</td>\n",
       "      <td>0</td>\n",
       "      <td>0</td>\n",
       "      <td>0</td>\n",
       "      <td>0</td>\n",
       "      <td>0</td>\n",
       "      <td>0</td>\n",
       "      <td>0</td>\n",
       "    </tr>\n",
       "    <tr>\n",
       "      <th>80</th>\n",
       "      <td>2008</td>\n",
       "      <td>0</td>\n",
       "      <td>5</td>\n",
       "      <td>0</td>\n",
       "      <td>0</td>\n",
       "      <td>0</td>\n",
       "      <td>0</td>\n",
       "      <td>0</td>\n",
       "      <td>0</td>\n",
       "      <td>1</td>\n",
       "      <td>...</td>\n",
       "      <td>0</td>\n",
       "      <td>0</td>\n",
       "      <td>0</td>\n",
       "      <td>0</td>\n",
       "      <td>0</td>\n",
       "      <td>0</td>\n",
       "      <td>0</td>\n",
       "      <td>0</td>\n",
       "      <td>0</td>\n",
       "      <td>0</td>\n",
       "    </tr>\n",
       "    <tr>\n",
       "      <th>79</th>\n",
       "      <td>2008</td>\n",
       "      <td>0</td>\n",
       "      <td>6</td>\n",
       "      <td>0</td>\n",
       "      <td>0</td>\n",
       "      <td>0</td>\n",
       "      <td>0</td>\n",
       "      <td>0</td>\n",
       "      <td>0</td>\n",
       "      <td>0</td>\n",
       "      <td>...</td>\n",
       "      <td>0</td>\n",
       "      <td>0</td>\n",
       "      <td>0</td>\n",
       "      <td>0</td>\n",
       "      <td>0</td>\n",
       "      <td>0</td>\n",
       "      <td>0</td>\n",
       "      <td>1</td>\n",
       "      <td>0</td>\n",
       "      <td>0</td>\n",
       "    </tr>\n",
       "  </tbody>\n",
       "</table>\n",
       "<p>5 rows × 87 columns</p>\n",
       "</div>"
      ],
      "text/plain": [
       "     season  toss_decision  winner  city_Abu Dhabi  city_Ahmedabad  \\\n",
       "116    2008              1       7               0               0   \n",
       "82     2008              0       7               0               0   \n",
       "81     2008              1       1               0               0   \n",
       "80     2008              0       5               0               0   \n",
       "79     2008              0       6               0               0   \n",
       "\n",
       "     city_Bangalore  city_Bloemfontein  city_Cape Town  city_Centurion  \\\n",
       "116               0                  0               0               0   \n",
       "82                0                  0               0               0   \n",
       "81                0                  0               0               0   \n",
       "80                0                  0               0               0   \n",
       "79                0                  0               0               0   \n",
       "\n",
       "     city_Chandigarh  ...  venue_Sardar Patel Stadium, Motera  \\\n",
       "116                0  ...                                   0   \n",
       "82                 0  ...                                   0   \n",
       "81                 0  ...                                   0   \n",
       "80                 1  ...                                   0   \n",
       "79                 0  ...                                   0   \n",
       "\n",
       "     venue_Shaheed Veer Narayan Singh International Stadium  \\\n",
       "116                                                  0        \n",
       "82                                                   0        \n",
       "81                                                   0        \n",
       "80                                                   0        \n",
       "79                                                   0        \n",
       "\n",
       "     venue_Sharjah Cricket Stadium  venue_Sheikh Zayed Stadium  \\\n",
       "116                              0                           0   \n",
       "82                               0                           0   \n",
       "81                               0                           0   \n",
       "80                               0                           0   \n",
       "79                               0                           0   \n",
       "\n",
       "     venue_St George's Park  venue_Subrata Roy Sahara Stadium  \\\n",
       "116                       0                                 0   \n",
       "82                        0                                 0   \n",
       "81                        0                                 0   \n",
       "80                        0                                 0   \n",
       "79                        0                                 0   \n",
       "\n",
       "     venue_SuperSport Park  venue_Uppal Stadium  \\\n",
       "116                      0                    0   \n",
       "82                       0                    0   \n",
       "81                       0                    0   \n",
       "80                       0                    0   \n",
       "79                       0                    1   \n",
       "\n",
       "     venue_Vidarbha Cricket Association Stadium, Jamtha  \\\n",
       "116                                                  0    \n",
       "82                                                   0    \n",
       "81                                                   0    \n",
       "80                                                   0    \n",
       "79                                                   0    \n",
       "\n",
       "     venue_Wankhede Stadium  \n",
       "116                       0  \n",
       "82                        0  \n",
       "81                        0  \n",
       "80                        0  \n",
       "79                        0  \n",
       "\n",
       "[5 rows x 87 columns]"
      ]
     },
     "execution_count": 69,
     "metadata": {},
     "output_type": "execute_result"
    }
   ],
   "source": [
    "# one hot label encoding for all the left out categorical columns in the data (this is better than label encoding because\n",
    "# it doesn't assign numeric values to each categorical levels so when there are many levels, the level with high level\n",
    "# number is not given more importance by the machine learning algorithm)\n",
    "iplmatches = pd.get_dummies(iplmatches, columns = ['city', 'team1', 'team2', 'toss_winner', 'venue'])\n",
    "iplmatches.head()"
   ]
  },
  {
   "cell_type": "code",
   "execution_count": 70,
   "id": "a4df27b8",
   "metadata": {
    "colab": {
     "background_save": true
    },
    "id": "d6aa6345"
   },
   "outputs": [],
   "source": [
    "# years from 2008 to 2018 is used for training and year 2019 is used for testing\n",
    "train_data = iplmatches.loc[iplmatches['season'] != 2019]\n",
    "test_data = iplmatches.loc[iplmatches['season'] == 2019]"
   ]
  },
  {
   "cell_type": "code",
   "execution_count": 71,
   "id": "356eb0c5",
   "metadata": {
    "colab": {
     "background_save": true
    },
    "id": "3d5e97d7"
   },
   "outputs": [
    {
     "data": {
      "text/plain": [
       "array([2008, 2009, 2010, 2011, 2012, 2013, 2014, 2015, 2016, 2017, 2018],\n",
       "      dtype=int64)"
      ]
     },
     "execution_count": 71,
     "metadata": {},
     "output_type": "execute_result"
    }
   ],
   "source": [
    "# verifying the above split\n",
    "train_data[\"season\"].unique()"
   ]
  },
  {
   "cell_type": "code",
   "execution_count": 72,
   "id": "774a7ea0",
   "metadata": {
    "colab": {
     "background_save": true
    },
    "id": "6af18b34"
   },
   "outputs": [],
   "source": [
    "# separating the X and y variables in the training set\n",
    "X_train = train_data.loc[:, train_data.columns != 'winner']\n",
    "y_train = train_data.loc[:, train_data.columns == 'winner']"
   ]
  },
  {
   "cell_type": "code",
   "execution_count": 73,
   "id": "504aa971",
   "metadata": {
    "colab": {
     "background_save": true
    },
    "id": "87678a71"
   },
   "outputs": [
    {
     "data": {
      "text/plain": [
       "array([2019], dtype=int64)"
      ]
     },
     "execution_count": 73,
     "metadata": {},
     "output_type": "execute_result"
    }
   ],
   "source": [
    "# verifying the above split\n",
    "test_data[\"season\"].unique()"
   ]
  },
  {
   "cell_type": "code",
   "execution_count": 74,
   "id": "63b5ff6a",
   "metadata": {
    "colab": {
     "background_save": true
    },
    "id": "a5db271a"
   },
   "outputs": [
    {
     "data": {
      "text/html": [
       "<div>\n",
       "<style scoped>\n",
       "    .dataframe tbody tr th:only-of-type {\n",
       "        vertical-align: middle;\n",
       "    }\n",
       "\n",
       "    .dataframe tbody tr th {\n",
       "        vertical-align: top;\n",
       "    }\n",
       "\n",
       "    .dataframe thead th {\n",
       "        text-align: right;\n",
       "    }\n",
       "</style>\n",
       "<table border=\"1\" class=\"dataframe\">\n",
       "  <thead>\n",
       "    <tr style=\"text-align: right;\">\n",
       "      <th></th>\n",
       "      <th>season</th>\n",
       "      <th>toss_decision</th>\n",
       "      <th>city_Abu Dhabi</th>\n",
       "      <th>city_Ahmedabad</th>\n",
       "      <th>city_Bangalore</th>\n",
       "      <th>city_Bloemfontein</th>\n",
       "      <th>city_Cape Town</th>\n",
       "      <th>city_Centurion</th>\n",
       "      <th>city_Chandigarh</th>\n",
       "      <th>city_Chennai</th>\n",
       "      <th>...</th>\n",
       "      <th>venue_Sardar Patel Stadium, Motera</th>\n",
       "      <th>venue_Shaheed Veer Narayan Singh International Stadium</th>\n",
       "      <th>venue_Sharjah Cricket Stadium</th>\n",
       "      <th>venue_Sheikh Zayed Stadium</th>\n",
       "      <th>venue_St George's Park</th>\n",
       "      <th>venue_Subrata Roy Sahara Stadium</th>\n",
       "      <th>venue_SuperSport Park</th>\n",
       "      <th>venue_Uppal Stadium</th>\n",
       "      <th>venue_Vidarbha Cricket Association Stadium, Jamtha</th>\n",
       "      <th>venue_Wankhede Stadium</th>\n",
       "    </tr>\n",
       "  </thead>\n",
       "  <tbody>\n",
       "    <tr>\n",
       "      <th>736</th>\n",
       "      <td>2019</td>\n",
       "      <td>1</td>\n",
       "      <td>0</td>\n",
       "      <td>0</td>\n",
       "      <td>0</td>\n",
       "      <td>0</td>\n",
       "      <td>0</td>\n",
       "      <td>0</td>\n",
       "      <td>0</td>\n",
       "      <td>1</td>\n",
       "      <td>...</td>\n",
       "      <td>0</td>\n",
       "      <td>0</td>\n",
       "      <td>0</td>\n",
       "      <td>0</td>\n",
       "      <td>0</td>\n",
       "      <td>0</td>\n",
       "      <td>0</td>\n",
       "      <td>0</td>\n",
       "      <td>0</td>\n",
       "      <td>0</td>\n",
       "    </tr>\n",
       "    <tr>\n",
       "      <th>739</th>\n",
       "      <td>2019</td>\n",
       "      <td>1</td>\n",
       "      <td>0</td>\n",
       "      <td>0</td>\n",
       "      <td>0</td>\n",
       "      <td>0</td>\n",
       "      <td>0</td>\n",
       "      <td>0</td>\n",
       "      <td>0</td>\n",
       "      <td>1</td>\n",
       "      <td>...</td>\n",
       "      <td>0</td>\n",
       "      <td>0</td>\n",
       "      <td>0</td>\n",
       "      <td>0</td>\n",
       "      <td>0</td>\n",
       "      <td>0</td>\n",
       "      <td>0</td>\n",
       "      <td>0</td>\n",
       "      <td>0</td>\n",
       "      <td>0</td>\n",
       "    </tr>\n",
       "    <tr>\n",
       "      <th>738</th>\n",
       "      <td>2019</td>\n",
       "      <td>1</td>\n",
       "      <td>0</td>\n",
       "      <td>0</td>\n",
       "      <td>0</td>\n",
       "      <td>0</td>\n",
       "      <td>0</td>\n",
       "      <td>0</td>\n",
       "      <td>0</td>\n",
       "      <td>0</td>\n",
       "      <td>...</td>\n",
       "      <td>0</td>\n",
       "      <td>0</td>\n",
       "      <td>0</td>\n",
       "      <td>0</td>\n",
       "      <td>0</td>\n",
       "      <td>0</td>\n",
       "      <td>0</td>\n",
       "      <td>0</td>\n",
       "      <td>0</td>\n",
       "      <td>0</td>\n",
       "    </tr>\n",
       "    <tr>\n",
       "      <th>737</th>\n",
       "      <td>2019</td>\n",
       "      <td>1</td>\n",
       "      <td>0</td>\n",
       "      <td>0</td>\n",
       "      <td>1</td>\n",
       "      <td>0</td>\n",
       "      <td>0</td>\n",
       "      <td>0</td>\n",
       "      <td>0</td>\n",
       "      <td>0</td>\n",
       "      <td>...</td>\n",
       "      <td>0</td>\n",
       "      <td>0</td>\n",
       "      <td>0</td>\n",
       "      <td>0</td>\n",
       "      <td>0</td>\n",
       "      <td>0</td>\n",
       "      <td>0</td>\n",
       "      <td>0</td>\n",
       "      <td>0</td>\n",
       "      <td>0</td>\n",
       "    </tr>\n",
       "    <tr>\n",
       "      <th>735</th>\n",
       "      <td>2019</td>\n",
       "      <td>1</td>\n",
       "      <td>0</td>\n",
       "      <td>0</td>\n",
       "      <td>0</td>\n",
       "      <td>0</td>\n",
       "      <td>0</td>\n",
       "      <td>0</td>\n",
       "      <td>0</td>\n",
       "      <td>0</td>\n",
       "      <td>...</td>\n",
       "      <td>0</td>\n",
       "      <td>0</td>\n",
       "      <td>0</td>\n",
       "      <td>0</td>\n",
       "      <td>0</td>\n",
       "      <td>0</td>\n",
       "      <td>0</td>\n",
       "      <td>0</td>\n",
       "      <td>0</td>\n",
       "      <td>0</td>\n",
       "    </tr>\n",
       "  </tbody>\n",
       "</table>\n",
       "<p>5 rows × 86 columns</p>\n",
       "</div>"
      ],
      "text/plain": [
       "     season  toss_decision  city_Abu Dhabi  city_Ahmedabad  city_Bangalore  \\\n",
       "736    2019              1               0               0               0   \n",
       "739    2019              1               0               0               0   \n",
       "738    2019              1               0               0               0   \n",
       "737    2019              1               0               0               1   \n",
       "735    2019              1               0               0               0   \n",
       "\n",
       "     city_Bloemfontein  city_Cape Town  city_Centurion  city_Chandigarh  \\\n",
       "736                  0               0               0                0   \n",
       "739                  0               0               0                0   \n",
       "738                  0               0               0                0   \n",
       "737                  0               0               0                0   \n",
       "735                  0               0               0                0   \n",
       "\n",
       "     city_Chennai  ...  venue_Sardar Patel Stadium, Motera  \\\n",
       "736             1  ...                                   0   \n",
       "739             1  ...                                   0   \n",
       "738             0  ...                                   0   \n",
       "737             0  ...                                   0   \n",
       "735             0  ...                                   0   \n",
       "\n",
       "     venue_Shaheed Veer Narayan Singh International Stadium  \\\n",
       "736                                                  0        \n",
       "739                                                  0        \n",
       "738                                                  0        \n",
       "737                                                  0        \n",
       "735                                                  0        \n",
       "\n",
       "     venue_Sharjah Cricket Stadium  venue_Sheikh Zayed Stadium  \\\n",
       "736                              0                           0   \n",
       "739                              0                           0   \n",
       "738                              0                           0   \n",
       "737                              0                           0   \n",
       "735                              0                           0   \n",
       "\n",
       "     venue_St George's Park  venue_Subrata Roy Sahara Stadium  \\\n",
       "736                       0                                 0   \n",
       "739                       0                                 0   \n",
       "738                       0                                 0   \n",
       "737                       0                                 0   \n",
       "735                       0                                 0   \n",
       "\n",
       "     venue_SuperSport Park  venue_Uppal Stadium  \\\n",
       "736                      0                    0   \n",
       "739                      0                    0   \n",
       "738                      0                    0   \n",
       "737                      0                    0   \n",
       "735                      0                    0   \n",
       "\n",
       "     venue_Vidarbha Cricket Association Stadium, Jamtha  \\\n",
       "736                                                  0    \n",
       "739                                                  0    \n",
       "738                                                  0    \n",
       "737                                                  0    \n",
       "735                                                  0    \n",
       "\n",
       "     venue_Wankhede Stadium  \n",
       "736                       0  \n",
       "739                       0  \n",
       "738                       0  \n",
       "737                       0  \n",
       "735                       0  \n",
       "\n",
       "[5 rows x 86 columns]"
      ]
     },
     "execution_count": 74,
     "metadata": {},
     "output_type": "execute_result"
    }
   ],
   "source": [
    "# separating the X and y variables in the testing set\n",
    "X_test = test_data.loc[:, test_data.columns != 'winner']\n",
    "y_test = test_data.loc[:, test_data.columns == 'winner']\n",
    "X_test.head()"
   ]
  },
  {
   "cell_type": "markdown",
   "id": "5baead2e",
   "metadata": {
    "id": "b5a1deaa"
   },
   "source": [
    "#### Logistic Regression Classifier ####"
   ]
  },
  {
   "cell_type": "markdown",
   "id": "8b71da25",
   "metadata": {
    "id": "28c871c8"
   },
   "source": [
    "A simple model in which a sigmoid function is used to find a continuous value of P(Y=1) for a given input X, which is later converted to Y=0 or Y=1 based on a threshold value."
   ]
  },
  {
   "cell_type": "code",
   "execution_count": 75,
   "id": "81a024a6",
   "metadata": {
    "colab": {
     "background_save": true
    },
    "id": "e72ff58a"
   },
   "outputs": [
    {
     "name": "stdout",
     "output_type": "stream",
     "text": [
      "The Accuracy of the Logistic classifier model is equal to 57.63%\n"
     ]
    }
   ],
   "source": [
    "# initializing the logistic regression classifier model\n",
    "logclassifier = LogisticRegression()\n",
    "\n",
    "# fitting the model\n",
    "logclassifier.fit(X_train, y_train)\n",
    "\n",
    "# predicting the test set results\n",
    "y_pred = logclassifier.predict(X_test)\n",
    "\n",
    "# accuracy of the model\n",
    "accuracy = accuracy_score(y_test, y_pred)*100\n",
    "print('The Accuracy of the Logistic classifier model is equal to ' + str(round(accuracy, 2)) + '%')"
   ]
  },
  {
   "cell_type": "code",
   "execution_count": 76,
   "id": "df94508a",
   "metadata": {
    "colab": {
     "background_save": true
    },
    "id": "105c631a"
   },
   "outputs": [
    {
     "data": {
      "image/png": "[encoded data removed]",
      "text/plain": [
       "<Figure size 576x360 with 2 Axes>"
      ]
     },
     "metadata": {
      "needs_background": "light"
     },
     "output_type": "display_data"
    }
   ],
   "source": [
    "# plotting the confusion matrix for the logistic regression model\n",
    "cm = confusion_matrix(y_test, y_pred)\n",
    "conf_matrix=pd.DataFrame(data=cm,columns=['1','2','3','4','5','6','7','8'],index=['1','2','3','4','5','6','7','8'])\n",
    "plt.figure(figsize = (8,5))\n",
    "sns.heatmap(conf_matrix, annot=True, fmt='d', cmap=\"YlGnBu\")\n",
    "plt.title('Confusion Matrix for the logistic regression classifier', fontsize = 12, fontweight='bold')\n",
    "plt.xlabel('Predicted')\n",
    "plt.ylabel('Actual')\n",
    "plt.show()"
   ]
  },
  {
   "cell_type": "markdown",
   "id": "9cc36c77",
   "metadata": {
    "id": "a48c7321"
   },
   "source": [
    "We see that there are very few/no false negatives and false positives for each class of the output variable."
   ]
  },
  {
   "cell_type": "markdown",
   "id": "b363b060",
   "metadata": {
    "id": "405a9c3f"
   },
   "source": [
    "Assumptions/Drawbacks: It learns a linear relationship from the given dataset and then introduces a non-linearity in the form of the sigmoid function. Hence when there is non-linear relationship between the inputs and the output variable, this model doesn't perform well. Another assumption made here is that all the predictors are not correlated."
   ]
  },
  {
   "cell_type": "markdown",
   "id": "73dabfa8",
   "metadata": {
    "id": "baa6fef1"
   },
   "source": [
    "#### K-Nearest Neighbors Classifier ####"
   ]
  },
  {
   "cell_type": "markdown",
   "id": "528f7f6f",
   "metadata": {
    "id": "6d1f0f06"
   },
   "source": [
    "A model in which nothing is assumed about the data and just the nearby neighbors are looked at to decide the class of the test data point"
   ]
  },
  {
   "cell_type": "code",
   "execution_count": 77,
   "id": "9b21e581",
   "metadata": {
    "colab": {
     "background_save": true
    },
    "id": "c4c14085"
   },
   "outputs": [],
   "source": [
    "# creating a list of K for the KNN algorithm\n",
    "# the model will consider K values from 1 till 30 with an interval of 2 (All odd numbers from 1 till 30)\n",
    "k_list = list(range(1,30,2))\n",
    "\n",
    "# creating list of average accuracy for each cross-validation\n",
    "cv_scores = []\n",
    "\n",
    "# performing 5-fold cross validation\n",
    "for k in k_list:\n",
    "    knn = KNeighborsClassifier(n_neighbors = k)\n",
    "    scores = cross_val_score(knn, X_train, y_train, cv = 5, scoring = 'accuracy')\n",
    "    cv_scores.append(scores.mean())"
   ]
  },
  {
   "cell_type": "code",
   "execution_count": 78,
   "id": "9271c806",
   "metadata": {
    "colab": {
     "background_save": true
    },
    "id": "2d84a351"
   },
   "outputs": [
    {
     "data": {
      "text/plain": [
       "<Figure size 432x288 with 0 Axes>"
      ]
     },
     "metadata": {},
     "output_type": "display_data"
    },
    {
     "data": {
      "image/png": "[encoded data removed]",
      "text/plain": [
       "<Figure size 720x576 with 1 Axes>"
      ]
     },
     "metadata": {
      "needs_background": "light"
     },
     "output_type": "display_data"
    }
   ],
   "source": [
    "# plotting average accuracy for all number of neighbors\n",
    "plt.figure()\n",
    "plt.figure(figsize=(10,8))\n",
    "plt.title('To find the optimal number of neighbors', fontsize = 12, fontweight='bold')\n",
    "plt.xlabel('Number of Neighbors (K)', fontsize = 12)\n",
    "plt.ylabel('Accuracy', fontsize = 12)\n",
    "plt.plot(k_list, cv_scores)\n",
    "plt.grid()\n",
    "plt.show()"
   ]
  },
  {
   "cell_type": "code",
   "execution_count": 79,
   "id": "cf0414cc",
   "metadata": {
    "colab": {
     "background_save": true
    },
    "id": "66432dc3"
   },
   "outputs": [
    {
     "name": "stdout",
     "output_type": "stream",
     "text": [
      "The Accuracy of the KNN classifier model is equal to 66.1%\n"
     ]
    }
   ],
   "source": [
    "# building a KNN model with K = 11 since from the above chart we can infer that at K = 11, the highest accuracy is achieved\n",
    "knnclassifier = KNeighborsClassifier(n_neighbors = 11)\n",
    "\n",
    "# fitting the model\n",
    "knnclassifier.fit(X_train, y_train)\n",
    "\n",
    "# predicting the test set results\n",
    "y_pred = knnclassifier.predict(X_test)\n",
    "\n",
    "# accuracy of the model\n",
    "accuracy = accuracy_score(y_test, y_pred)*100\n",
    "print('The Accuracy of the KNN classifier model is equal to ' + str(round(accuracy, 2)) + '%')"
   ]
  },
  {
   "cell_type": "markdown",
   "id": "60ca7d9a",
   "metadata": {
    "id": "bd725cf1"
   },
   "source": [
    "Assumptions/Drawbacks: Since we have a lot of categorical columns, after we do one-hot encoding, the number of columns drastically increase and usually KNN algorithm is not ideal for large datasets due to the computational requirements."
   ]
  },
  {
   "cell_type": "markdown",
   "id": "864c9846",
   "metadata": {
    "id": "142224e1"
   },
   "source": [
    "#### Random Forest Classifier ####"
   ]
  },
  {
   "cell_type": "markdown",
   "id": "6698bb32",
   "metadata": {
    "id": "b66ea3b0"
   },
   "source": [
    "Decision trees are tree-like model of decisions and Random forest model is set of multiple decision trees to prevent overfitting. Decision tree models are ideal in our case since we have a lot of categorical data."
   ]
  },
  {
   "cell_type": "markdown",
   "id": "894afe84",
   "metadata": {
    "id": "a3d112c2"
   },
   "source": [
    "A very simple decision tree is visualized to understand the process of the random forest classifier"
   ]
  },
  {
   "cell_type": "code",
   "execution_count": 80,
   "id": "c5d50971",
   "metadata": {
    "colab": {
     "background_save": true
    },
    "id": "d55b9903"
   },
   "outputs": [
    {
     "data": {
      "image/png": "[encoded data removed]",
      "text/plain": [
       "<Figure size 1800x2100 with 1 Axes>"
      ]
     },
     "metadata": {
      "needs_background": "light"
     },
     "output_type": "display_data"
    }
   ],
   "source": [
    "# a decision tree is fitted with max_depth = 2\n",
    "clf = DecisionTreeClassifier(max_depth = 2, \n",
    "                             random_state = 0)\n",
    "clf.fit(X_train, y_train)\n",
    "\n",
    "# the obtained tree is plotted and saved as an image\n",
    "fig, axes = plt.subplots(nrows = 1,ncols = 1,figsize = (3,3.5), dpi=600)\n",
    "tree.plot_tree(clf,\n",
    "               feature_names = X_train.columns, \n",
    "               class_names = ['1','2','3','4','5','6','7','8'],\n",
    "               filled = True);\n",
    "fig.savefig('image.png')"
   ]
  },
  {
   "cell_type": "code",
   "execution_count": 81,
   "id": "615ecb99",
   "metadata": {
    "colab": {
     "background_save": true,
     "base_uri": "https://localhost:8080/"
    },
    "id": "7c24621c"
   },
   "outputs": [
    {
     "name": "stdout",
     "output_type": "stream",
     "text": [
      "Fitting 5 folds for each of 1050 candidates, totalling 5250 fits\n",
      "Best paramters: {'criterion': 'entropy', 'max_depth': 13, 'min_samples_split': 29, 'n_estimators': 140})\n",
      "The Accuracy of the Random Forest classifier model is equal to 61.02%\n"
     ]
    }
   ],
   "source": [
    "# random forest classifier is trained using the technique of hyperparameter tuning\n",
    "# dictionary with different set of parameters for the random forest \n",
    "params = {\n",
    "    \"criterion\":(\"gini\", \"entropy\", \"loss\"),\n",
    "    \"n_estimators\":(list(range(100,300,20))),\n",
    "    \"max_depth\":(list(range(1,20,4))),\n",
    "    \"min_samples_split\":(list(range(5,30,4)))\n",
    "}\n",
    "\n",
    "# initializing the random forest classifier model\n",
    "rfclassifier = RandomForestClassifier()\n",
    "# using cross validation (cv = 5) and searching for the best paramters\n",
    "rfclassifier = GridSearchCV(rfclassifier, params, scoring = \"accuracy\", n_jobs = -1, verbose = 1, cv = 5)\n",
    "# fitting the model\n",
    "rfclassifier.fit(X_train, y_train)\n",
    "# getting the best parameters and printing it\n",
    "best_params = rfclassifier.best_params_\n",
    "print(f\"Best paramters: {best_params})\")\n",
    "\n",
    "# fitting the model with the best parameters found above\n",
    "rfclassifier = RandomForestClassifier(**best_params, random_state = 1)\n",
    "rfclassifier.fit(X_train, y_train)\n",
    "\n",
    "# predicting the test set results\n",
    "y_pred = rfclassifier.predict(X_test)\n",
    "\n",
    "# accuracy of the model\n",
    "accuracy = accuracy_score(y_test, y_pred)*100\n",
    "print('The Accuracy of the Random Forest classifier model is equal to ' + str(round(accuracy, 2)) + '%')"
   ]
  },
  {
   "cell_type": "markdown",
   "id": "8041b970",
   "metadata": {
    "id": "b0fd7b78"
   },
   "source": [
    "Assumptions/Drawbakcs: Random forests uses the concept of bagging and feature randomness to build uncorrelated forest of trees. The assumption made here is that in the process of bagging, the sample is representative of the whole trainig dataset. Another requirement here is that the all the features have some predictive power. When these assumptions fail, the model would not perform that well. "
   ]
  },
  {
   "cell_type": "markdown",
   "id": "02cb804f",
   "metadata": {
    "id": "612e6b91"
   },
   "source": [
    "#### Naive Bayes Classifier ####"
   ]
  },
  {
   "cell_type": "markdown",
   "id": "de75f0ad",
   "metadata": {
    "id": "bd75ef79"
   },
   "source": [
    "Since most of our predictors are independent of each other, we try Naive Bayes classifier in which the model uses the Bayes Theorem to calculate the conditional probability of an event."
   ]
  },
  {
   "cell_type": "code",
   "execution_count": 82,
   "id": "0fa2e55a",
   "metadata": {
    "colab": {
     "background_save": true
    },
    "id": "31e9254a"
   },
   "outputs": [],
   "source": [
    "# Splitting the training data into training and validation sets\n",
    "X_train, X_val, y_train, y_val = train_test_split(X_train, y_train, test_size = 0.2, random_state = 1)"
   ]
  },
  {
   "cell_type": "code",
   "execution_count": 83,
   "id": "b14d0aee",
   "metadata": {
    "colab": {
     "background_save": true
    },
    "id": "be20c1a8"
   },
   "outputs": [],
   "source": [
    "# finding the ideal variance smoothing value for the Naive Bayes Theorem\n",
    "train_score = []\n",
    "val_score = []\n",
    "alpha = [0.0001, 0.0005, 0.001, 0.005, 0.01, 0.02, 0.04, 0.06, 0.08, 0.1, 1]\n",
    "\n",
    "for i in alpha:\n",
    "    gaussian = GaussianNB(var_smoothing = i)\n",
    "    nb_model = gaussian.fit(X_train, y_train)\n",
    "    train_score.append(nb_model.score(X_train, y_train))\n",
    "    val_score.append(nb_model.score(X_val, y_val))"
   ]
  },
  {
   "cell_type": "code",
   "execution_count": 84,
   "id": "fe522a04",
   "metadata": {
    "colab": {
     "background_save": true
    },
    "id": "93de0b4f"
   },
   "outputs": [
    {
     "data": {
      "image/png": "[encoded data removed]",
      "text/plain": [
       "<Figure size 432x288 with 1 Axes>"
      ]
     },
     "metadata": {
      "needs_background": "light"
     },
     "output_type": "display_data"
    }
   ],
   "source": [
    "plt.plot(alpha, train_score)\n",
    "plt.plot(alpha, val_score)\n",
    "plt.legend(['Training Accuracy','Validation Accuracy'])\n",
    "plt.title('Naive Bayes Tuning')\n",
    "plt.xlabel('Variance Smoothing')\n",
    "plt.ylabel('Accuracy')\n",
    "plt.grid()"
   ]
  },
  {
   "cell_type": "code",
   "execution_count": 85,
   "id": "c0681d1d",
   "metadata": {
    "colab": {
     "background_save": true
    },
    "id": "28b53acb"
   },
   "outputs": [
    {
     "name": "stdout",
     "output_type": "stream",
     "text": [
      "The Accuracy of the Naive Bayes classifier model is equal to 71.19%\n"
     ]
    }
   ],
   "source": [
    "# based on the above graph, we find the ideal variance smoothing value to be 0.06 \n",
    "# initializing and fitting the model\n",
    "gaussian = GaussianNB(var_smoothing = 0.06)\n",
    "nb_model = gaussian.fit(X_train, y_train)\n",
    "\n",
    "# accuracy of the model\n",
    "print('The Accuracy of the Naive Bayes classifier model is equal to ' + str(round(nb_model.score(X_test, y_test)*100, 2)) + '%')"
   ]
  },
  {
   "cell_type": "markdown",
   "id": "182fd838",
   "metadata": {
    "id": "490ebfd3"
   },
   "source": [
    "Assumptions/Drawbacks: Naives Bayes makes an important assumption that all the predictors are independent. In our case, even though most of them are, some are not. For example, the probability of a team to win at a particular venue may change based on its opponent. Hence this factor could degrade the performance of the classifier. Another assumption made here is that all the predictors have an equal effect on the outcome."
   ]
  }
 ],
 "metadata": {
  "colab": {
   "name": "",
   "version": ""
  },
  "kernelspec": {
   "display_name": "Python 3 (ipykernel)",
   "language": "python",
   "name": "python3"
  },
  "language_info": {
   "codemirror_mode": {
    "name": "ipython",
    "version": 3
   },
   "file_extension": ".py",
   "mimetype": "text/x-python",
   "name": "python",
   "nbconvert_exporter": "python",
   "pygments_lexer": "ipython3",
   "version": "3.9.12"
  }
 },
 "nbformat": 4,
 "nbformat_minor": 5
}
